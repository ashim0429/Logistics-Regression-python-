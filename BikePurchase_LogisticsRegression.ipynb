{
  "nbformat": 4,
  "nbformat_minor": 0,
  "metadata": {
    "colab": {
      "name": "BikePurchase_LogisticsRegression_2058978_AshimBaral.ipynb",
      "provenance": [],
      "collapsed_sections": []
    },
    "kernelspec": {
      "name": "python3",
      "display_name": "Python 3"
    },
    "language_info": {
      "name": "python"
    }
  },
  "cells": [
    {
      "cell_type": "markdown",
      "source": [
        "Logistic Regression or Multiclass Classification is an extension of Binomial Logistic Regression which is used to model nominal outcome variables.\n",
        "\n",
        "First We Import all the necessary libraries as pandas, numpy, matplotlib.pyplot, seaborn, roc_curve, auc, metrics etc"
      ],
      "metadata": {
        "id": "HJZBWjUNI7Wz"
      }
    },
    {
      "cell_type": "code",
      "execution_count": 1,
      "metadata": {
        "id": "aJUzLdZXyt46"
      },
      "outputs": [],
      "source": [
        "import pandas as pd\n",
        "import numpy as np\n",
        "import matplotlib.pyplot as plt\n",
        "import seaborn as sns\n",
        "from sklearn.metrics import roc_curve, auc\n"
      ]
    },
    {
      "cell_type": "code",
      "source": [
        "#importing csv file\n",
        "from google.colab import files\n",
        "uploaded = files.upload()"
      ],
      "metadata": {
        "colab": {
          "resources": {
            "http://localhost:8080/nbextensions/google.colab/files.js": {
              "data": "Ly8gQ29weXJpZ2h0IDIwMTcgR29vZ2xlIExMQwovLwovLyBMaWNlbnNlZCB1bmRlciB0aGUgQXBhY2hlIExpY2Vuc2UsIFZlcnNpb24gMi4wICh0aGUgIkxpY2Vuc2UiKTsKLy8geW91IG1heSBub3QgdXNlIHRoaXMgZmlsZSBleGNlcHQgaW4gY29tcGxpYW5jZSB3aXRoIHRoZSBMaWNlbnNlLgovLyBZb3UgbWF5IG9idGFpbiBhIGNvcHkgb2YgdGhlIExpY2Vuc2UgYXQKLy8KLy8gICAgICBodHRwOi8vd3d3LmFwYWNoZS5vcmcvbGljZW5zZXMvTElDRU5TRS0yLjAKLy8KLy8gVW5sZXNzIHJlcXVpcmVkIGJ5IGFwcGxpY2FibGUgbGF3IG9yIGFncmVlZCB0byBpbiB3cml0aW5nLCBzb2Z0d2FyZQovLyBkaXN0cmlidXRlZCB1bmRlciB0aGUgTGljZW5zZSBpcyBkaXN0cmlidXRlZCBvbiBhbiAiQVMgSVMiIEJBU0lTLAovLyBXSVRIT1VUIFdBUlJBTlRJRVMgT1IgQ09ORElUSU9OUyBPRiBBTlkgS0lORCwgZWl0aGVyIGV4cHJlc3Mgb3IgaW1wbGllZC4KLy8gU2VlIHRoZSBMaWNlbnNlIGZvciB0aGUgc3BlY2lmaWMgbGFuZ3VhZ2UgZ292ZXJuaW5nIHBlcm1pc3Npb25zIGFuZAovLyBsaW1pdGF0aW9ucyB1bmRlciB0aGUgTGljZW5zZS4KCi8qKgogKiBAZmlsZW92ZXJ2aWV3IEhlbHBlcnMgZm9yIGdvb2dsZS5jb2xhYiBQeXRob24gbW9kdWxlLgogKi8KKGZ1bmN0aW9uKHNjb3BlKSB7CmZ1bmN0aW9uIHNwYW4odGV4dCwgc3R5bGVBdHRyaWJ1dGVzID0ge30pIHsKICBjb25zdCBlbGVtZW50ID0gZG9jdW1lbnQuY3JlYXRlRWxlbWVudCgnc3BhbicpOwogIGVsZW1lbnQudGV4dENvbnRlbnQgPSB0ZXh0OwogIGZvciAoY29uc3Qga2V5IG9mIE9iamVjdC5rZXlzKHN0eWxlQXR0cmlidXRlcykpIHsKICAgIGVsZW1lbnQuc3R5bGVba2V5XSA9IHN0eWxlQXR0cmlidXRlc1trZXldOwogIH0KICByZXR1cm4gZWxlbWVudDsKfQoKLy8gTWF4IG51bWJlciBvZiBieXRlcyB3aGljaCB3aWxsIGJlIHVwbG9hZGVkIGF0IGEgdGltZS4KY29uc3QgTUFYX1BBWUxPQURfU0laRSA9IDEwMCAqIDEwMjQ7CgpmdW5jdGlvbiBfdXBsb2FkRmlsZXMoaW5wdXRJZCwgb3V0cHV0SWQpIHsKICBjb25zdCBzdGVwcyA9IHVwbG9hZEZpbGVzU3RlcChpbnB1dElkLCBvdXRwdXRJZCk7CiAgY29uc3Qgb3V0cHV0RWxlbWVudCA9IGRvY3VtZW50LmdldEVsZW1lbnRCeUlkKG91dHB1dElkKTsKICAvLyBDYWNoZSBzdGVwcyBvbiB0aGUgb3V0cHV0RWxlbWVudCB0byBtYWtlIGl0IGF2YWlsYWJsZSBmb3IgdGhlIG5leHQgY2FsbAogIC8vIHRvIHVwbG9hZEZpbGVzQ29udGludWUgZnJvbSBQeXRob24uCiAgb3V0cHV0RWxlbWVudC5zdGVwcyA9IHN0ZXBzOwoKICByZXR1cm4gX3VwbG9hZEZpbGVzQ29udGludWUob3V0cHV0SWQpOwp9CgovLyBUaGlzIGlzIHJvdWdobHkgYW4gYXN5bmMgZ2VuZXJhdG9yIChub3Qgc3VwcG9ydGVkIGluIHRoZSBicm93c2VyIHlldCksCi8vIHdoZXJlIHRoZXJlIGFyZSBtdWx0aXBsZSBhc3luY2hyb25vdXMgc3RlcHMgYW5kIHRoZSBQeXRob24gc2lkZSBpcyBnb2luZwovLyB0byBwb2xsIGZvciBjb21wbGV0aW9uIG9mIGVhY2ggc3RlcC4KLy8gVGhpcyB1c2VzIGEgUHJvbWlzZSB0byBibG9jayB0aGUgcHl0aG9uIHNpZGUgb24gY29tcGxldGlvbiBvZiBlYWNoIHN0ZXAsCi8vIHRoZW4gcGFzc2VzIHRoZSByZXN1bHQgb2YgdGhlIHByZXZpb3VzIHN0ZXAgYXMgdGhlIGlucHV0IHRvIHRoZSBuZXh0IHN0ZXAuCmZ1bmN0aW9uIF91cGxvYWRGaWxlc0NvbnRpbnVlKG91dHB1dElkKSB7CiAgY29uc3Qgb3V0cHV0RWxlbWVudCA9IGRvY3VtZW50LmdldEVsZW1lbnRCeUlkKG91dHB1dElkKTsKICBjb25zdCBzdGVwcyA9IG91dHB1dEVsZW1lbnQuc3RlcHM7CgogIGNvbnN0IG5leHQgPSBzdGVwcy5uZXh0KG91dHB1dEVsZW1lbnQubGFzdFByb21pc2VWYWx1ZSk7CiAgcmV0dXJuIFByb21pc2UucmVzb2x2ZShuZXh0LnZhbHVlLnByb21pc2UpLnRoZW4oKHZhbHVlKSA9PiB7CiAgICAvLyBDYWNoZSB0aGUgbGFzdCBwcm9taXNlIHZhbHVlIHRvIG1ha2UgaXQgYXZhaWxhYmxlIHRvIHRoZSBuZXh0CiAgICAvLyBzdGVwIG9mIHRoZSBnZW5lcmF0b3IuCiAgICBvdXRwdXRFbGVtZW50Lmxhc3RQcm9taXNlVmFsdWUgPSB2YWx1ZTsKICAgIHJldHVybiBuZXh0LnZhbHVlLnJlc3BvbnNlOwogIH0pOwp9CgovKioKICogR2VuZXJhdG9yIGZ1bmN0aW9uIHdoaWNoIGlzIGNhbGxlZCBiZXR3ZWVuIGVhY2ggYXN5bmMgc3RlcCBvZiB0aGUgdXBsb2FkCiAqIHByb2Nlc3MuCiAqIEBwYXJhbSB7c3RyaW5nfSBpbnB1dElkIEVsZW1lbnQgSUQgb2YgdGhlIGlucHV0IGZpbGUgcGlja2VyIGVsZW1lbnQuCiAqIEBwYXJhbSB7c3RyaW5nfSBvdXRwdXRJZCBFbGVtZW50IElEIG9mIHRoZSBvdXRwdXQgZGlzcGxheS4KICogQHJldHVybiB7IUl0ZXJhYmxlPCFPYmplY3Q+fSBJdGVyYWJsZSBvZiBuZXh0IHN0ZXBzLgogKi8KZnVuY3Rpb24qIHVwbG9hZEZpbGVzU3RlcChpbnB1dElkLCBvdXRwdXRJZCkgewogIGNvbnN0IGlucHV0RWxlbWVudCA9IGRvY3VtZW50LmdldEVsZW1lbnRCeUlkKGlucHV0SWQpOwogIGlucHV0RWxlbWVudC5kaXNhYmxlZCA9IGZhbHNlOwoKICBjb25zdCBvdXRwdXRFbGVtZW50ID0gZG9jdW1lbnQuZ2V0RWxlbWVudEJ5SWQob3V0cHV0SWQpOwogIG91dHB1dEVsZW1lbnQuaW5uZXJIVE1MID0gJyc7CgogIGNvbnN0IHBpY2tlZFByb21pc2UgPSBuZXcgUHJvbWlzZSgocmVzb2x2ZSkgPT4gewogICAgaW5wdXRFbGVtZW50LmFkZEV2ZW50TGlzdGVuZXIoJ2NoYW5nZScsIChlKSA9PiB7CiAgICAgIHJlc29sdmUoZS50YXJnZXQuZmlsZXMpOwogICAgfSk7CiAgfSk7CgogIGNvbnN0IGNhbmNlbCA9IGRvY3VtZW50LmNyZWF0ZUVsZW1lbnQoJ2J1dHRvbicpOwogIGlucHV0RWxlbWVudC5wYXJlbnRFbGVtZW50LmFwcGVuZENoaWxkKGNhbmNlbCk7CiAgY2FuY2VsLnRleHRDb250ZW50ID0gJ0NhbmNlbCB1cGxvYWQnOwogIGNvbnN0IGNhbmNlbFByb21pc2UgPSBuZXcgUHJvbWlzZSgocmVzb2x2ZSkgPT4gewogICAgY2FuY2VsLm9uY2xpY2sgPSAoKSA9PiB7CiAgICAgIHJlc29sdmUobnVsbCk7CiAgICB9OwogIH0pOwoKICAvLyBXYWl0IGZvciB0aGUgdXNlciB0byBwaWNrIHRoZSBmaWxlcy4KICBjb25zdCBmaWxlcyA9IHlpZWxkIHsKICAgIHByb21pc2U6IFByb21pc2UucmFjZShbcGlja2VkUHJvbWlzZSwgY2FuY2VsUHJvbWlzZV0pLAogICAgcmVzcG9uc2U6IHsKICAgICAgYWN0aW9uOiAnc3RhcnRpbmcnLAogICAgfQogIH07CgogIGNhbmNlbC5yZW1vdmUoKTsKCiAgLy8gRGlzYWJsZSB0aGUgaW5wdXQgZWxlbWVudCBzaW5jZSBmdXJ0aGVyIHBpY2tzIGFyZSBub3QgYWxsb3dlZC4KICBpbnB1dEVsZW1lbnQuZGlzYWJsZWQgPSB0cnVlOwoKICBpZiAoIWZpbGVzKSB7CiAgICByZXR1cm4gewogICAgICByZXNwb25zZTogewogICAgICAgIGFjdGlvbjogJ2NvbXBsZXRlJywKICAgICAgfQogICAgfTsKICB9CgogIGZvciAoY29uc3QgZmlsZSBvZiBmaWxlcykgewogICAgY29uc3QgbGkgPSBkb2N1bWVudC5jcmVhdGVFbGVtZW50KCdsaScpOwogICAgbGkuYXBwZW5kKHNwYW4oZmlsZS5uYW1lLCB7Zm9udFdlaWdodDogJ2JvbGQnfSkpOwogICAgbGkuYXBwZW5kKHNwYW4oCiAgICAgICAgYCgke2ZpbGUudHlwZSB8fCAnbi9hJ30pIC0gJHtmaWxlLnNpemV9IGJ5dGVzLCBgICsKICAgICAgICBgbGFzdCBtb2RpZmllZDogJHsKICAgICAgICAgICAgZmlsZS5sYXN0TW9kaWZpZWREYXRlID8gZmlsZS5sYXN0TW9kaWZpZWREYXRlLnRvTG9jYWxlRGF0ZVN0cmluZygpIDoKICAgICAgICAgICAgICAgICAgICAgICAgICAgICAgICAgICAgJ24vYSd9IC0gYCkpOwogICAgY29uc3QgcGVyY2VudCA9IHNwYW4oJzAlIGRvbmUnKTsKICAgIGxpLmFwcGVuZENoaWxkKHBlcmNlbnQpOwoKICAgIG91dHB1dEVsZW1lbnQuYXBwZW5kQ2hpbGQobGkpOwoKICAgIGNvbnN0IGZpbGVEYXRhUHJvbWlzZSA9IG5ldyBQcm9taXNlKChyZXNvbHZlKSA9PiB7CiAgICAgIGNvbnN0IHJlYWRlciA9IG5ldyBGaWxlUmVhZGVyKCk7CiAgICAgIHJlYWRlci5vbmxvYWQgPSAoZSkgPT4gewogICAgICAgIHJlc29sdmUoZS50YXJnZXQucmVzdWx0KTsKICAgICAgfTsKICAgICAgcmVhZGVyLnJlYWRBc0FycmF5QnVmZmVyKGZpbGUpOwogICAgfSk7CiAgICAvLyBXYWl0IGZvciB0aGUgZGF0YSB0byBiZSByZWFkeS4KICAgIGxldCBmaWxlRGF0YSA9IHlpZWxkIHsKICAgICAgcHJvbWlzZTogZmlsZURhdGFQcm9taXNlLAogICAgICByZXNwb25zZTogewogICAgICAgIGFjdGlvbjogJ2NvbnRpbnVlJywKICAgICAgfQogICAgfTsKCiAgICAvLyBVc2UgYSBjaHVua2VkIHNlbmRpbmcgdG8gYXZvaWQgbWVzc2FnZSBzaXplIGxpbWl0cy4gU2VlIGIvNjIxMTU2NjAuCiAgICBsZXQgcG9zaXRpb24gPSAwOwogICAgZG8gewogICAgICBjb25zdCBsZW5ndGggPSBNYXRoLm1pbihmaWxlRGF0YS5ieXRlTGVuZ3RoIC0gcG9zaXRpb24sIE1BWF9QQVlMT0FEX1NJWkUpOwogICAgICBjb25zdCBjaHVuayA9IG5ldyBVaW50OEFycmF5KGZpbGVEYXRhLCBwb3NpdGlvbiwgbGVuZ3RoKTsKICAgICAgcG9zaXRpb24gKz0gbGVuZ3RoOwoKICAgICAgY29uc3QgYmFzZTY0ID0gYnRvYShTdHJpbmcuZnJvbUNoYXJDb2RlLmFwcGx5KG51bGwsIGNodW5rKSk7CiAgICAgIHlpZWxkIHsKICAgICAgICByZXNwb25zZTogewogICAgICAgICAgYWN0aW9uOiAnYXBwZW5kJywKICAgICAgICAgIGZpbGU6IGZpbGUubmFtZSwKICAgICAgICAgIGRhdGE6IGJhc2U2NCwKICAgICAgICB9LAogICAgICB9OwoKICAgICAgbGV0IHBlcmNlbnREb25lID0gZmlsZURhdGEuYnl0ZUxlbmd0aCA9PT0gMCA/CiAgICAgICAgICAxMDAgOgogICAgICAgICAgTWF0aC5yb3VuZCgocG9zaXRpb24gLyBmaWxlRGF0YS5ieXRlTGVuZ3RoKSAqIDEwMCk7CiAgICAgIHBlcmNlbnQudGV4dENvbnRlbnQgPSBgJHtwZXJjZW50RG9uZX0lIGRvbmVgOwoKICAgIH0gd2hpbGUgKHBvc2l0aW9uIDwgZmlsZURhdGEuYnl0ZUxlbmd0aCk7CiAgfQoKICAvLyBBbGwgZG9uZS4KICB5aWVsZCB7CiAgICByZXNwb25zZTogewogICAgICBhY3Rpb246ICdjb21wbGV0ZScsCiAgICB9CiAgfTsKfQoKc2NvcGUuZ29vZ2xlID0gc2NvcGUuZ29vZ2xlIHx8IHt9OwpzY29wZS5nb29nbGUuY29sYWIgPSBzY29wZS5nb29nbGUuY29sYWIgfHwge307CnNjb3BlLmdvb2dsZS5jb2xhYi5fZmlsZXMgPSB7CiAgX3VwbG9hZEZpbGVzLAogIF91cGxvYWRGaWxlc0NvbnRpbnVlLAp9Owp9KShzZWxmKTsK",
              "ok": true,
              "headers": [
                [
                  "content-type",
                  "application/javascript"
                ]
              ],
              "status": 200,
              "status_text": ""
            }
          },
          "base_uri": "https://localhost:8080/",
          "height": 73
        },
        "id": "MfetwREVzOn9",
        "outputId": "5cef30f8-53f4-4b49-8220-1d7a9eba0c46"
      },
      "execution_count": 2,
      "outputs": [
        {
          "output_type": "display_data",
          "data": {
            "text/html": [
              "\n",
              "     <input type=\"file\" id=\"files-7a29aa5b-cdaf-4123-a6fd-027d66abef96\" name=\"files[]\" multiple disabled\n",
              "        style=\"border:none\" />\n",
              "     <output id=\"result-7a29aa5b-cdaf-4123-a6fd-027d66abef96\">\n",
              "      Upload widget is only available when the cell has been executed in the\n",
              "      current browser session. Please rerun this cell to enable.\n",
              "      </output>\n",
              "      <script src=\"/nbextensions/google.colab/files.js\"></script> "
            ],
            "text/plain": [
              "<IPython.core.display.HTML object>"
            ]
          },
          "metadata": {}
        },
        {
          "output_type": "stream",
          "name": "stdout",
          "text": [
            "Saving bike_buyers_clean.csv to bike_buyers_clean.csv\n"
          ]
        }
      ]
    },
    {
      "cell_type": "code",
      "source": [
        "#importing data in pandas\n",
        "import io\n",
        "dataframe2 = pd.read_csv(io.BytesIO(uploaded['bike_buyers_clean.csv']))\n",
        "#loading data\n",
        "#dataframe2 = dataframe2.drop(labels = range(550,1000), axis  =0)\n",
        "dataframe2"
      ],
      "metadata": {
        "colab": {
          "base_uri": "https://localhost:8080/",
          "height": 424
        },
        "id": "ljpxMfDTzYs9",
        "outputId": "ebdc71f2-3dc9-4ff0-fe29-23fbeccd107a"
      },
      "execution_count": 3,
      "outputs": [
        {
          "output_type": "execute_result",
          "data": {
            "text/html": [
              "\n",
              "  <div id=\"df-59d43cc4-91fc-4ee3-b34a-042f25a2750a\">\n",
              "    <div class=\"colab-df-container\">\n",
              "      <div>\n",
              "<style scoped>\n",
              "    .dataframe tbody tr th:only-of-type {\n",
              "        vertical-align: middle;\n",
              "    }\n",
              "\n",
              "    .dataframe tbody tr th {\n",
              "        vertical-align: top;\n",
              "    }\n",
              "\n",
              "    .dataframe thead th {\n",
              "        text-align: right;\n",
              "    }\n",
              "</style>\n",
              "<table border=\"1\" class=\"dataframe\">\n",
              "  <thead>\n",
              "    <tr style=\"text-align: right;\">\n",
              "      <th></th>\n",
              "      <th>ID</th>\n",
              "      <th>Marital Status</th>\n",
              "      <th>Gender</th>\n",
              "      <th>Income</th>\n",
              "      <th>Children</th>\n",
              "      <th>Education</th>\n",
              "      <th>Occupation</th>\n",
              "      <th>Home Owner</th>\n",
              "      <th>Cars</th>\n",
              "      <th>Commute Distance</th>\n",
              "      <th>Region</th>\n",
              "      <th>Age</th>\n",
              "      <th>Purchased Bike</th>\n",
              "    </tr>\n",
              "  </thead>\n",
              "  <tbody>\n",
              "    <tr>\n",
              "      <th>0</th>\n",
              "      <td>12496</td>\n",
              "      <td>Married</td>\n",
              "      <td>Female</td>\n",
              "      <td>40000</td>\n",
              "      <td>1</td>\n",
              "      <td>Bachelors</td>\n",
              "      <td>Skilled Manual</td>\n",
              "      <td>Yes</td>\n",
              "      <td>0</td>\n",
              "      <td>0-1 Miles</td>\n",
              "      <td>Europe</td>\n",
              "      <td>42</td>\n",
              "      <td>No</td>\n",
              "    </tr>\n",
              "    <tr>\n",
              "      <th>1</th>\n",
              "      <td>24107</td>\n",
              "      <td>Married</td>\n",
              "      <td>Male</td>\n",
              "      <td>30000</td>\n",
              "      <td>3</td>\n",
              "      <td>Partial College</td>\n",
              "      <td>Clerical</td>\n",
              "      <td>Yes</td>\n",
              "      <td>1</td>\n",
              "      <td>0-1 Miles</td>\n",
              "      <td>Europe</td>\n",
              "      <td>43</td>\n",
              "      <td>No</td>\n",
              "    </tr>\n",
              "    <tr>\n",
              "      <th>2</th>\n",
              "      <td>14177</td>\n",
              "      <td>Married</td>\n",
              "      <td>Male</td>\n",
              "      <td>80000</td>\n",
              "      <td>5</td>\n",
              "      <td>Partial College</td>\n",
              "      <td>Professional</td>\n",
              "      <td>No</td>\n",
              "      <td>2</td>\n",
              "      <td>2-5 Miles</td>\n",
              "      <td>Europe</td>\n",
              "      <td>60</td>\n",
              "      <td>No</td>\n",
              "    </tr>\n",
              "    <tr>\n",
              "      <th>3</th>\n",
              "      <td>24381</td>\n",
              "      <td>Single</td>\n",
              "      <td>Male</td>\n",
              "      <td>70000</td>\n",
              "      <td>0</td>\n",
              "      <td>Bachelors</td>\n",
              "      <td>Professional</td>\n",
              "      <td>Yes</td>\n",
              "      <td>1</td>\n",
              "      <td>5-10 Miles</td>\n",
              "      <td>Pacific</td>\n",
              "      <td>41</td>\n",
              "      <td>Yes</td>\n",
              "    </tr>\n",
              "    <tr>\n",
              "      <th>4</th>\n",
              "      <td>25597</td>\n",
              "      <td>Single</td>\n",
              "      <td>Male</td>\n",
              "      <td>30000</td>\n",
              "      <td>0</td>\n",
              "      <td>Bachelors</td>\n",
              "      <td>Clerical</td>\n",
              "      <td>No</td>\n",
              "      <td>0</td>\n",
              "      <td>0-1 Miles</td>\n",
              "      <td>Europe</td>\n",
              "      <td>36</td>\n",
              "      <td>Yes</td>\n",
              "    </tr>\n",
              "    <tr>\n",
              "      <th>...</th>\n",
              "      <td>...</td>\n",
              "      <td>...</td>\n",
              "      <td>...</td>\n",
              "      <td>...</td>\n",
              "      <td>...</td>\n",
              "      <td>...</td>\n",
              "      <td>...</td>\n",
              "      <td>...</td>\n",
              "      <td>...</td>\n",
              "      <td>...</td>\n",
              "      <td>...</td>\n",
              "      <td>...</td>\n",
              "      <td>...</td>\n",
              "    </tr>\n",
              "    <tr>\n",
              "      <th>995</th>\n",
              "      <td>23731</td>\n",
              "      <td>Married</td>\n",
              "      <td>Male</td>\n",
              "      <td>60000</td>\n",
              "      <td>2</td>\n",
              "      <td>High School</td>\n",
              "      <td>Professional</td>\n",
              "      <td>Yes</td>\n",
              "      <td>2</td>\n",
              "      <td>2-5 Miles</td>\n",
              "      <td>North America</td>\n",
              "      <td>54</td>\n",
              "      <td>Yes</td>\n",
              "    </tr>\n",
              "    <tr>\n",
              "      <th>996</th>\n",
              "      <td>28672</td>\n",
              "      <td>Single</td>\n",
              "      <td>Male</td>\n",
              "      <td>70000</td>\n",
              "      <td>4</td>\n",
              "      <td>Graduate Degree</td>\n",
              "      <td>Professional</td>\n",
              "      <td>Yes</td>\n",
              "      <td>0</td>\n",
              "      <td>2-5 Miles</td>\n",
              "      <td>North America</td>\n",
              "      <td>35</td>\n",
              "      <td>Yes</td>\n",
              "    </tr>\n",
              "    <tr>\n",
              "      <th>997</th>\n",
              "      <td>11809</td>\n",
              "      <td>Married</td>\n",
              "      <td>Male</td>\n",
              "      <td>60000</td>\n",
              "      <td>2</td>\n",
              "      <td>Bachelors</td>\n",
              "      <td>Skilled Manual</td>\n",
              "      <td>Yes</td>\n",
              "      <td>0</td>\n",
              "      <td>0-1 Miles</td>\n",
              "      <td>North America</td>\n",
              "      <td>38</td>\n",
              "      <td>Yes</td>\n",
              "    </tr>\n",
              "    <tr>\n",
              "      <th>998</th>\n",
              "      <td>19664</td>\n",
              "      <td>Single</td>\n",
              "      <td>Male</td>\n",
              "      <td>100000</td>\n",
              "      <td>3</td>\n",
              "      <td>Bachelors</td>\n",
              "      <td>Management</td>\n",
              "      <td>No</td>\n",
              "      <td>3</td>\n",
              "      <td>1-2 Miles</td>\n",
              "      <td>North America</td>\n",
              "      <td>38</td>\n",
              "      <td>No</td>\n",
              "    </tr>\n",
              "    <tr>\n",
              "      <th>999</th>\n",
              "      <td>12121</td>\n",
              "      <td>Single</td>\n",
              "      <td>Male</td>\n",
              "      <td>60000</td>\n",
              "      <td>3</td>\n",
              "      <td>High School</td>\n",
              "      <td>Professional</td>\n",
              "      <td>Yes</td>\n",
              "      <td>2</td>\n",
              "      <td>10+ Miles</td>\n",
              "      <td>North America</td>\n",
              "      <td>53</td>\n",
              "      <td>Yes</td>\n",
              "    </tr>\n",
              "  </tbody>\n",
              "</table>\n",
              "<p>1000 rows × 13 columns</p>\n",
              "</div>\n",
              "      <button class=\"colab-df-convert\" onclick=\"convertToInteractive('df-59d43cc4-91fc-4ee3-b34a-042f25a2750a')\"\n",
              "              title=\"Convert this dataframe to an interactive table.\"\n",
              "              style=\"display:none;\">\n",
              "        \n",
              "  <svg xmlns=\"http://www.w3.org/2000/svg\" height=\"24px\"viewBox=\"0 0 24 24\"\n",
              "       width=\"24px\">\n",
              "    <path d=\"M0 0h24v24H0V0z\" fill=\"none\"/>\n",
              "    <path d=\"M18.56 5.44l.94 2.06.94-2.06 2.06-.94-2.06-.94-.94-2.06-.94 2.06-2.06.94zm-11 1L8.5 8.5l.94-2.06 2.06-.94-2.06-.94L8.5 2.5l-.94 2.06-2.06.94zm10 10l.94 2.06.94-2.06 2.06-.94-2.06-.94-.94-2.06-.94 2.06-2.06.94z\"/><path d=\"M17.41 7.96l-1.37-1.37c-.4-.4-.92-.59-1.43-.59-.52 0-1.04.2-1.43.59L10.3 9.45l-7.72 7.72c-.78.78-.78 2.05 0 2.83L4 21.41c.39.39.9.59 1.41.59.51 0 1.02-.2 1.41-.59l7.78-7.78 2.81-2.81c.8-.78.8-2.07 0-2.86zM5.41 20L4 18.59l7.72-7.72 1.47 1.35L5.41 20z\"/>\n",
              "  </svg>\n",
              "      </button>\n",
              "      \n",
              "  <style>\n",
              "    .colab-df-container {\n",
              "      display:flex;\n",
              "      flex-wrap:wrap;\n",
              "      gap: 12px;\n",
              "    }\n",
              "\n",
              "    .colab-df-convert {\n",
              "      background-color: #E8F0FE;\n",
              "      border: none;\n",
              "      border-radius: 50%;\n",
              "      cursor: pointer;\n",
              "      display: none;\n",
              "      fill: #1967D2;\n",
              "      height: 32px;\n",
              "      padding: 0 0 0 0;\n",
              "      width: 32px;\n",
              "    }\n",
              "\n",
              "    .colab-df-convert:hover {\n",
              "      background-color: #E2EBFA;\n",
              "      box-shadow: 0px 1px 2px rgba(60, 64, 67, 0.3), 0px 1px 3px 1px rgba(60, 64, 67, 0.15);\n",
              "      fill: #174EA6;\n",
              "    }\n",
              "\n",
              "    [theme=dark] .colab-df-convert {\n",
              "      background-color: #3B4455;\n",
              "      fill: #D2E3FC;\n",
              "    }\n",
              "\n",
              "    [theme=dark] .colab-df-convert:hover {\n",
              "      background-color: #434B5C;\n",
              "      box-shadow: 0px 1px 3px 1px rgba(0, 0, 0, 0.15);\n",
              "      filter: drop-shadow(0px 1px 2px rgba(0, 0, 0, 0.3));\n",
              "      fill: #FFFFFF;\n",
              "    }\n",
              "  </style>\n",
              "\n",
              "      <script>\n",
              "        const buttonEl =\n",
              "          document.querySelector('#df-59d43cc4-91fc-4ee3-b34a-042f25a2750a button.colab-df-convert');\n",
              "        buttonEl.style.display =\n",
              "          google.colab.kernel.accessAllowed ? 'block' : 'none';\n",
              "\n",
              "        async function convertToInteractive(key) {\n",
              "          const element = document.querySelector('#df-59d43cc4-91fc-4ee3-b34a-042f25a2750a');\n",
              "          const dataTable =\n",
              "            await google.colab.kernel.invokeFunction('convertToInteractive',\n",
              "                                                     [key], {});\n",
              "          if (!dataTable) return;\n",
              "\n",
              "          const docLinkHtml = 'Like what you see? Visit the ' +\n",
              "            '<a target=\"_blank\" href=https://colab.research.google.com/notebooks/data_table.ipynb>data table notebook</a>'\n",
              "            + ' to learn more about interactive tables.';\n",
              "          element.innerHTML = '';\n",
              "          dataTable['output_type'] = 'display_data';\n",
              "          await google.colab.output.renderOutput(dataTable, element);\n",
              "          const docLink = document.createElement('div');\n",
              "          docLink.innerHTML = docLinkHtml;\n",
              "          element.appendChild(docLink);\n",
              "        }\n",
              "      </script>\n",
              "    </div>\n",
              "  </div>\n",
              "  "
            ],
            "text/plain": [
              "        ID Marital Status  Gender  ...         Region  Age Purchased Bike\n",
              "0    12496        Married  Female  ...         Europe   42             No\n",
              "1    24107        Married    Male  ...         Europe   43             No\n",
              "2    14177        Married    Male  ...         Europe   60             No\n",
              "3    24381         Single    Male  ...        Pacific   41            Yes\n",
              "4    25597         Single    Male  ...         Europe   36            Yes\n",
              "..     ...            ...     ...  ...            ...  ...            ...\n",
              "995  23731        Married    Male  ...  North America   54            Yes\n",
              "996  28672         Single    Male  ...  North America   35            Yes\n",
              "997  11809        Married    Male  ...  North America   38            Yes\n",
              "998  19664         Single    Male  ...  North America   38             No\n",
              "999  12121         Single    Male  ...  North America   53            Yes\n",
              "\n",
              "[1000 rows x 13 columns]"
            ]
          },
          "metadata": {},
          "execution_count": 3
        }
      ]
    },
    {
      "cell_type": "code",
      "source": [
        "#showing top 5 dataset\n",
        "dataframe2.head()"
      ],
      "metadata": {
        "colab": {
          "base_uri": "https://localhost:8080/",
          "height": 206
        },
        "id": "L5-LbyvjzzAc",
        "outputId": "e7924b33-7eb1-4572-ed10-5766ec931d12"
      },
      "execution_count": 4,
      "outputs": [
        {
          "output_type": "execute_result",
          "data": {
            "text/html": [
              "\n",
              "  <div id=\"df-ad542aa3-8d07-4545-b1c1-65cafc5185fe\">\n",
              "    <div class=\"colab-df-container\">\n",
              "      <div>\n",
              "<style scoped>\n",
              "    .dataframe tbody tr th:only-of-type {\n",
              "        vertical-align: middle;\n",
              "    }\n",
              "\n",
              "    .dataframe tbody tr th {\n",
              "        vertical-align: top;\n",
              "    }\n",
              "\n",
              "    .dataframe thead th {\n",
              "        text-align: right;\n",
              "    }\n",
              "</style>\n",
              "<table border=\"1\" class=\"dataframe\">\n",
              "  <thead>\n",
              "    <tr style=\"text-align: right;\">\n",
              "      <th></th>\n",
              "      <th>ID</th>\n",
              "      <th>Marital Status</th>\n",
              "      <th>Gender</th>\n",
              "      <th>Income</th>\n",
              "      <th>Children</th>\n",
              "      <th>Education</th>\n",
              "      <th>Occupation</th>\n",
              "      <th>Home Owner</th>\n",
              "      <th>Cars</th>\n",
              "      <th>Commute Distance</th>\n",
              "      <th>Region</th>\n",
              "      <th>Age</th>\n",
              "      <th>Purchased Bike</th>\n",
              "    </tr>\n",
              "  </thead>\n",
              "  <tbody>\n",
              "    <tr>\n",
              "      <th>0</th>\n",
              "      <td>12496</td>\n",
              "      <td>Married</td>\n",
              "      <td>Female</td>\n",
              "      <td>40000</td>\n",
              "      <td>1</td>\n",
              "      <td>Bachelors</td>\n",
              "      <td>Skilled Manual</td>\n",
              "      <td>Yes</td>\n",
              "      <td>0</td>\n",
              "      <td>0-1 Miles</td>\n",
              "      <td>Europe</td>\n",
              "      <td>42</td>\n",
              "      <td>No</td>\n",
              "    </tr>\n",
              "    <tr>\n",
              "      <th>1</th>\n",
              "      <td>24107</td>\n",
              "      <td>Married</td>\n",
              "      <td>Male</td>\n",
              "      <td>30000</td>\n",
              "      <td>3</td>\n",
              "      <td>Partial College</td>\n",
              "      <td>Clerical</td>\n",
              "      <td>Yes</td>\n",
              "      <td>1</td>\n",
              "      <td>0-1 Miles</td>\n",
              "      <td>Europe</td>\n",
              "      <td>43</td>\n",
              "      <td>No</td>\n",
              "    </tr>\n",
              "    <tr>\n",
              "      <th>2</th>\n",
              "      <td>14177</td>\n",
              "      <td>Married</td>\n",
              "      <td>Male</td>\n",
              "      <td>80000</td>\n",
              "      <td>5</td>\n",
              "      <td>Partial College</td>\n",
              "      <td>Professional</td>\n",
              "      <td>No</td>\n",
              "      <td>2</td>\n",
              "      <td>2-5 Miles</td>\n",
              "      <td>Europe</td>\n",
              "      <td>60</td>\n",
              "      <td>No</td>\n",
              "    </tr>\n",
              "    <tr>\n",
              "      <th>3</th>\n",
              "      <td>24381</td>\n",
              "      <td>Single</td>\n",
              "      <td>Male</td>\n",
              "      <td>70000</td>\n",
              "      <td>0</td>\n",
              "      <td>Bachelors</td>\n",
              "      <td>Professional</td>\n",
              "      <td>Yes</td>\n",
              "      <td>1</td>\n",
              "      <td>5-10 Miles</td>\n",
              "      <td>Pacific</td>\n",
              "      <td>41</td>\n",
              "      <td>Yes</td>\n",
              "    </tr>\n",
              "    <tr>\n",
              "      <th>4</th>\n",
              "      <td>25597</td>\n",
              "      <td>Single</td>\n",
              "      <td>Male</td>\n",
              "      <td>30000</td>\n",
              "      <td>0</td>\n",
              "      <td>Bachelors</td>\n",
              "      <td>Clerical</td>\n",
              "      <td>No</td>\n",
              "      <td>0</td>\n",
              "      <td>0-1 Miles</td>\n",
              "      <td>Europe</td>\n",
              "      <td>36</td>\n",
              "      <td>Yes</td>\n",
              "    </tr>\n",
              "  </tbody>\n",
              "</table>\n",
              "</div>\n",
              "      <button class=\"colab-df-convert\" onclick=\"convertToInteractive('df-ad542aa3-8d07-4545-b1c1-65cafc5185fe')\"\n",
              "              title=\"Convert this dataframe to an interactive table.\"\n",
              "              style=\"display:none;\">\n",
              "        \n",
              "  <svg xmlns=\"http://www.w3.org/2000/svg\" height=\"24px\"viewBox=\"0 0 24 24\"\n",
              "       width=\"24px\">\n",
              "    <path d=\"M0 0h24v24H0V0z\" fill=\"none\"/>\n",
              "    <path d=\"M18.56 5.44l.94 2.06.94-2.06 2.06-.94-2.06-.94-.94-2.06-.94 2.06-2.06.94zm-11 1L8.5 8.5l.94-2.06 2.06-.94-2.06-.94L8.5 2.5l-.94 2.06-2.06.94zm10 10l.94 2.06.94-2.06 2.06-.94-2.06-.94-.94-2.06-.94 2.06-2.06.94z\"/><path d=\"M17.41 7.96l-1.37-1.37c-.4-.4-.92-.59-1.43-.59-.52 0-1.04.2-1.43.59L10.3 9.45l-7.72 7.72c-.78.78-.78 2.05 0 2.83L4 21.41c.39.39.9.59 1.41.59.51 0 1.02-.2 1.41-.59l7.78-7.78 2.81-2.81c.8-.78.8-2.07 0-2.86zM5.41 20L4 18.59l7.72-7.72 1.47 1.35L5.41 20z\"/>\n",
              "  </svg>\n",
              "      </button>\n",
              "      \n",
              "  <style>\n",
              "    .colab-df-container {\n",
              "      display:flex;\n",
              "      flex-wrap:wrap;\n",
              "      gap: 12px;\n",
              "    }\n",
              "\n",
              "    .colab-df-convert {\n",
              "      background-color: #E8F0FE;\n",
              "      border: none;\n",
              "      border-radius: 50%;\n",
              "      cursor: pointer;\n",
              "      display: none;\n",
              "      fill: #1967D2;\n",
              "      height: 32px;\n",
              "      padding: 0 0 0 0;\n",
              "      width: 32px;\n",
              "    }\n",
              "\n",
              "    .colab-df-convert:hover {\n",
              "      background-color: #E2EBFA;\n",
              "      box-shadow: 0px 1px 2px rgba(60, 64, 67, 0.3), 0px 1px 3px 1px rgba(60, 64, 67, 0.15);\n",
              "      fill: #174EA6;\n",
              "    }\n",
              "\n",
              "    [theme=dark] .colab-df-convert {\n",
              "      background-color: #3B4455;\n",
              "      fill: #D2E3FC;\n",
              "    }\n",
              "\n",
              "    [theme=dark] .colab-df-convert:hover {\n",
              "      background-color: #434B5C;\n",
              "      box-shadow: 0px 1px 3px 1px rgba(0, 0, 0, 0.15);\n",
              "      filter: drop-shadow(0px 1px 2px rgba(0, 0, 0, 0.3));\n",
              "      fill: #FFFFFF;\n",
              "    }\n",
              "  </style>\n",
              "\n",
              "      <script>\n",
              "        const buttonEl =\n",
              "          document.querySelector('#df-ad542aa3-8d07-4545-b1c1-65cafc5185fe button.colab-df-convert');\n",
              "        buttonEl.style.display =\n",
              "          google.colab.kernel.accessAllowed ? 'block' : 'none';\n",
              "\n",
              "        async function convertToInteractive(key) {\n",
              "          const element = document.querySelector('#df-ad542aa3-8d07-4545-b1c1-65cafc5185fe');\n",
              "          const dataTable =\n",
              "            await google.colab.kernel.invokeFunction('convertToInteractive',\n",
              "                                                     [key], {});\n",
              "          if (!dataTable) return;\n",
              "\n",
              "          const docLinkHtml = 'Like what you see? Visit the ' +\n",
              "            '<a target=\"_blank\" href=https://colab.research.google.com/notebooks/data_table.ipynb>data table notebook</a>'\n",
              "            + ' to learn more about interactive tables.';\n",
              "          element.innerHTML = '';\n",
              "          dataTable['output_type'] = 'display_data';\n",
              "          await google.colab.output.renderOutput(dataTable, element);\n",
              "          const docLink = document.createElement('div');\n",
              "          docLink.innerHTML = docLinkHtml;\n",
              "          element.appendChild(docLink);\n",
              "        }\n",
              "      </script>\n",
              "    </div>\n",
              "  </div>\n",
              "  "
            ],
            "text/plain": [
              "      ID Marital Status  Gender  ...   Region  Age Purchased Bike\n",
              "0  12496        Married  Female  ...   Europe   42             No\n",
              "1  24107        Married    Male  ...   Europe   43             No\n",
              "2  14177        Married    Male  ...   Europe   60             No\n",
              "3  24381         Single    Male  ...  Pacific   41            Yes\n",
              "4  25597         Single    Male  ...   Europe   36            Yes\n",
              "\n",
              "[5 rows x 13 columns]"
            ]
          },
          "metadata": {},
          "execution_count": 4
        }
      ]
    },
    {
      "cell_type": "code",
      "source": [
        "print(\"The number of rows and column:- \", dataframe2.shape)"
      ],
      "metadata": {
        "colab": {
          "base_uri": "https://localhost:8080/"
        },
        "id": "J3gy0yOkz9MD",
        "outputId": "e80564e5-3409-4a06-ff7b-d2226f2ece3e"
      },
      "execution_count": 5,
      "outputs": [
        {
          "output_type": "stream",
          "name": "stdout",
          "text": [
            "The number of rows and column:-  (1000, 13)\n"
          ]
        }
      ]
    },
    {
      "cell_type": "code",
      "source": [
        "from sklearn.preprocessing import StandardScaler\n",
        "ash = StandardScaler()\n",
        "dataframe2.isnull().sum()"
      ],
      "metadata": {
        "colab": {
          "base_uri": "https://localhost:8080/"
        },
        "id": "g5Wlbsyx-RSu",
        "outputId": "5abd3681-0927-4aa9-9ec7-727a67b1b96b"
      },
      "execution_count": 6,
      "outputs": [
        {
          "output_type": "execute_result",
          "data": {
            "text/plain": [
              "ID                  0\n",
              "Marital Status      0\n",
              "Gender              0\n",
              "Income              0\n",
              "Children            0\n",
              "Education           0\n",
              "Occupation          0\n",
              "Home Owner          0\n",
              "Cars                0\n",
              "Commute Distance    0\n",
              "Region              0\n",
              "Age                 0\n",
              "Purchased Bike      0\n",
              "dtype: int64"
            ]
          },
          "metadata": {},
          "execution_count": 6
        }
      ]
    },
    {
      "cell_type": "code",
      "source": [
        "dataframe2 = dataframe2.dropna()"
      ],
      "metadata": {
        "id": "HHh5TyKH_wVt"
      },
      "execution_count": 7,
      "outputs": []
    },
    {
      "cell_type": "code",
      "source": [
        "dataframe2"
      ],
      "metadata": {
        "colab": {
          "base_uri": "https://localhost:8080/",
          "height": 424
        },
        "id": "SYPVV21tBSYf",
        "outputId": "ec1e0d3c-0c82-4f73-cd41-2720af980628"
      },
      "execution_count": 8,
      "outputs": [
        {
          "output_type": "execute_result",
          "data": {
            "text/html": [
              "\n",
              "  <div id=\"df-3892f83b-f554-4c1b-9ee5-b5e382ef144c\">\n",
              "    <div class=\"colab-df-container\">\n",
              "      <div>\n",
              "<style scoped>\n",
              "    .dataframe tbody tr th:only-of-type {\n",
              "        vertical-align: middle;\n",
              "    }\n",
              "\n",
              "    .dataframe tbody tr th {\n",
              "        vertical-align: top;\n",
              "    }\n",
              "\n",
              "    .dataframe thead th {\n",
              "        text-align: right;\n",
              "    }\n",
              "</style>\n",
              "<table border=\"1\" class=\"dataframe\">\n",
              "  <thead>\n",
              "    <tr style=\"text-align: right;\">\n",
              "      <th></th>\n",
              "      <th>ID</th>\n",
              "      <th>Marital Status</th>\n",
              "      <th>Gender</th>\n",
              "      <th>Income</th>\n",
              "      <th>Children</th>\n",
              "      <th>Education</th>\n",
              "      <th>Occupation</th>\n",
              "      <th>Home Owner</th>\n",
              "      <th>Cars</th>\n",
              "      <th>Commute Distance</th>\n",
              "      <th>Region</th>\n",
              "      <th>Age</th>\n",
              "      <th>Purchased Bike</th>\n",
              "    </tr>\n",
              "  </thead>\n",
              "  <tbody>\n",
              "    <tr>\n",
              "      <th>0</th>\n",
              "      <td>12496</td>\n",
              "      <td>Married</td>\n",
              "      <td>Female</td>\n",
              "      <td>40000</td>\n",
              "      <td>1</td>\n",
              "      <td>Bachelors</td>\n",
              "      <td>Skilled Manual</td>\n",
              "      <td>Yes</td>\n",
              "      <td>0</td>\n",
              "      <td>0-1 Miles</td>\n",
              "      <td>Europe</td>\n",
              "      <td>42</td>\n",
              "      <td>No</td>\n",
              "    </tr>\n",
              "    <tr>\n",
              "      <th>1</th>\n",
              "      <td>24107</td>\n",
              "      <td>Married</td>\n",
              "      <td>Male</td>\n",
              "      <td>30000</td>\n",
              "      <td>3</td>\n",
              "      <td>Partial College</td>\n",
              "      <td>Clerical</td>\n",
              "      <td>Yes</td>\n",
              "      <td>1</td>\n",
              "      <td>0-1 Miles</td>\n",
              "      <td>Europe</td>\n",
              "      <td>43</td>\n",
              "      <td>No</td>\n",
              "    </tr>\n",
              "    <tr>\n",
              "      <th>2</th>\n",
              "      <td>14177</td>\n",
              "      <td>Married</td>\n",
              "      <td>Male</td>\n",
              "      <td>80000</td>\n",
              "      <td>5</td>\n",
              "      <td>Partial College</td>\n",
              "      <td>Professional</td>\n",
              "      <td>No</td>\n",
              "      <td>2</td>\n",
              "      <td>2-5 Miles</td>\n",
              "      <td>Europe</td>\n",
              "      <td>60</td>\n",
              "      <td>No</td>\n",
              "    </tr>\n",
              "    <tr>\n",
              "      <th>3</th>\n",
              "      <td>24381</td>\n",
              "      <td>Single</td>\n",
              "      <td>Male</td>\n",
              "      <td>70000</td>\n",
              "      <td>0</td>\n",
              "      <td>Bachelors</td>\n",
              "      <td>Professional</td>\n",
              "      <td>Yes</td>\n",
              "      <td>1</td>\n",
              "      <td>5-10 Miles</td>\n",
              "      <td>Pacific</td>\n",
              "      <td>41</td>\n",
              "      <td>Yes</td>\n",
              "    </tr>\n",
              "    <tr>\n",
              "      <th>4</th>\n",
              "      <td>25597</td>\n",
              "      <td>Single</td>\n",
              "      <td>Male</td>\n",
              "      <td>30000</td>\n",
              "      <td>0</td>\n",
              "      <td>Bachelors</td>\n",
              "      <td>Clerical</td>\n",
              "      <td>No</td>\n",
              "      <td>0</td>\n",
              "      <td>0-1 Miles</td>\n",
              "      <td>Europe</td>\n",
              "      <td>36</td>\n",
              "      <td>Yes</td>\n",
              "    </tr>\n",
              "    <tr>\n",
              "      <th>...</th>\n",
              "      <td>...</td>\n",
              "      <td>...</td>\n",
              "      <td>...</td>\n",
              "      <td>...</td>\n",
              "      <td>...</td>\n",
              "      <td>...</td>\n",
              "      <td>...</td>\n",
              "      <td>...</td>\n",
              "      <td>...</td>\n",
              "      <td>...</td>\n",
              "      <td>...</td>\n",
              "      <td>...</td>\n",
              "      <td>...</td>\n",
              "    </tr>\n",
              "    <tr>\n",
              "      <th>995</th>\n",
              "      <td>23731</td>\n",
              "      <td>Married</td>\n",
              "      <td>Male</td>\n",
              "      <td>60000</td>\n",
              "      <td>2</td>\n",
              "      <td>High School</td>\n",
              "      <td>Professional</td>\n",
              "      <td>Yes</td>\n",
              "      <td>2</td>\n",
              "      <td>2-5 Miles</td>\n",
              "      <td>North America</td>\n",
              "      <td>54</td>\n",
              "      <td>Yes</td>\n",
              "    </tr>\n",
              "    <tr>\n",
              "      <th>996</th>\n",
              "      <td>28672</td>\n",
              "      <td>Single</td>\n",
              "      <td>Male</td>\n",
              "      <td>70000</td>\n",
              "      <td>4</td>\n",
              "      <td>Graduate Degree</td>\n",
              "      <td>Professional</td>\n",
              "      <td>Yes</td>\n",
              "      <td>0</td>\n",
              "      <td>2-5 Miles</td>\n",
              "      <td>North America</td>\n",
              "      <td>35</td>\n",
              "      <td>Yes</td>\n",
              "    </tr>\n",
              "    <tr>\n",
              "      <th>997</th>\n",
              "      <td>11809</td>\n",
              "      <td>Married</td>\n",
              "      <td>Male</td>\n",
              "      <td>60000</td>\n",
              "      <td>2</td>\n",
              "      <td>Bachelors</td>\n",
              "      <td>Skilled Manual</td>\n",
              "      <td>Yes</td>\n",
              "      <td>0</td>\n",
              "      <td>0-1 Miles</td>\n",
              "      <td>North America</td>\n",
              "      <td>38</td>\n",
              "      <td>Yes</td>\n",
              "    </tr>\n",
              "    <tr>\n",
              "      <th>998</th>\n",
              "      <td>19664</td>\n",
              "      <td>Single</td>\n",
              "      <td>Male</td>\n",
              "      <td>100000</td>\n",
              "      <td>3</td>\n",
              "      <td>Bachelors</td>\n",
              "      <td>Management</td>\n",
              "      <td>No</td>\n",
              "      <td>3</td>\n",
              "      <td>1-2 Miles</td>\n",
              "      <td>North America</td>\n",
              "      <td>38</td>\n",
              "      <td>No</td>\n",
              "    </tr>\n",
              "    <tr>\n",
              "      <th>999</th>\n",
              "      <td>12121</td>\n",
              "      <td>Single</td>\n",
              "      <td>Male</td>\n",
              "      <td>60000</td>\n",
              "      <td>3</td>\n",
              "      <td>High School</td>\n",
              "      <td>Professional</td>\n",
              "      <td>Yes</td>\n",
              "      <td>2</td>\n",
              "      <td>10+ Miles</td>\n",
              "      <td>North America</td>\n",
              "      <td>53</td>\n",
              "      <td>Yes</td>\n",
              "    </tr>\n",
              "  </tbody>\n",
              "</table>\n",
              "<p>1000 rows × 13 columns</p>\n",
              "</div>\n",
              "      <button class=\"colab-df-convert\" onclick=\"convertToInteractive('df-3892f83b-f554-4c1b-9ee5-b5e382ef144c')\"\n",
              "              title=\"Convert this dataframe to an interactive table.\"\n",
              "              style=\"display:none;\">\n",
              "        \n",
              "  <svg xmlns=\"http://www.w3.org/2000/svg\" height=\"24px\"viewBox=\"0 0 24 24\"\n",
              "       width=\"24px\">\n",
              "    <path d=\"M0 0h24v24H0V0z\" fill=\"none\"/>\n",
              "    <path d=\"M18.56 5.44l.94 2.06.94-2.06 2.06-.94-2.06-.94-.94-2.06-.94 2.06-2.06.94zm-11 1L8.5 8.5l.94-2.06 2.06-.94-2.06-.94L8.5 2.5l-.94 2.06-2.06.94zm10 10l.94 2.06.94-2.06 2.06-.94-2.06-.94-.94-2.06-.94 2.06-2.06.94z\"/><path d=\"M17.41 7.96l-1.37-1.37c-.4-.4-.92-.59-1.43-.59-.52 0-1.04.2-1.43.59L10.3 9.45l-7.72 7.72c-.78.78-.78 2.05 0 2.83L4 21.41c.39.39.9.59 1.41.59.51 0 1.02-.2 1.41-.59l7.78-7.78 2.81-2.81c.8-.78.8-2.07 0-2.86zM5.41 20L4 18.59l7.72-7.72 1.47 1.35L5.41 20z\"/>\n",
              "  </svg>\n",
              "      </button>\n",
              "      \n",
              "  <style>\n",
              "    .colab-df-container {\n",
              "      display:flex;\n",
              "      flex-wrap:wrap;\n",
              "      gap: 12px;\n",
              "    }\n",
              "\n",
              "    .colab-df-convert {\n",
              "      background-color: #E8F0FE;\n",
              "      border: none;\n",
              "      border-radius: 50%;\n",
              "      cursor: pointer;\n",
              "      display: none;\n",
              "      fill: #1967D2;\n",
              "      height: 32px;\n",
              "      padding: 0 0 0 0;\n",
              "      width: 32px;\n",
              "    }\n",
              "\n",
              "    .colab-df-convert:hover {\n",
              "      background-color: #E2EBFA;\n",
              "      box-shadow: 0px 1px 2px rgba(60, 64, 67, 0.3), 0px 1px 3px 1px rgba(60, 64, 67, 0.15);\n",
              "      fill: #174EA6;\n",
              "    }\n",
              "\n",
              "    [theme=dark] .colab-df-convert {\n",
              "      background-color: #3B4455;\n",
              "      fill: #D2E3FC;\n",
              "    }\n",
              "\n",
              "    [theme=dark] .colab-df-convert:hover {\n",
              "      background-color: #434B5C;\n",
              "      box-shadow: 0px 1px 3px 1px rgba(0, 0, 0, 0.15);\n",
              "      filter: drop-shadow(0px 1px 2px rgba(0, 0, 0, 0.3));\n",
              "      fill: #FFFFFF;\n",
              "    }\n",
              "  </style>\n",
              "\n",
              "      <script>\n",
              "        const buttonEl =\n",
              "          document.querySelector('#df-3892f83b-f554-4c1b-9ee5-b5e382ef144c button.colab-df-convert');\n",
              "        buttonEl.style.display =\n",
              "          google.colab.kernel.accessAllowed ? 'block' : 'none';\n",
              "\n",
              "        async function convertToInteractive(key) {\n",
              "          const element = document.querySelector('#df-3892f83b-f554-4c1b-9ee5-b5e382ef144c');\n",
              "          const dataTable =\n",
              "            await google.colab.kernel.invokeFunction('convertToInteractive',\n",
              "                                                     [key], {});\n",
              "          if (!dataTable) return;\n",
              "\n",
              "          const docLinkHtml = 'Like what you see? Visit the ' +\n",
              "            '<a target=\"_blank\" href=https://colab.research.google.com/notebooks/data_table.ipynb>data table notebook</a>'\n",
              "            + ' to learn more about interactive tables.';\n",
              "          element.innerHTML = '';\n",
              "          dataTable['output_type'] = 'display_data';\n",
              "          await google.colab.output.renderOutput(dataTable, element);\n",
              "          const docLink = document.createElement('div');\n",
              "          docLink.innerHTML = docLinkHtml;\n",
              "          element.appendChild(docLink);\n",
              "        }\n",
              "      </script>\n",
              "    </div>\n",
              "  </div>\n",
              "  "
            ],
            "text/plain": [
              "        ID Marital Status  Gender  ...         Region  Age Purchased Bike\n",
              "0    12496        Married  Female  ...         Europe   42             No\n",
              "1    24107        Married    Male  ...         Europe   43             No\n",
              "2    14177        Married    Male  ...         Europe   60             No\n",
              "3    24381         Single    Male  ...        Pacific   41            Yes\n",
              "4    25597         Single    Male  ...         Europe   36            Yes\n",
              "..     ...            ...     ...  ...            ...  ...            ...\n",
              "995  23731        Married    Male  ...  North America   54            Yes\n",
              "996  28672         Single    Male  ...  North America   35            Yes\n",
              "997  11809        Married    Male  ...  North America   38            Yes\n",
              "998  19664         Single    Male  ...  North America   38             No\n",
              "999  12121         Single    Male  ...  North America   53            Yes\n",
              "\n",
              "[1000 rows x 13 columns]"
            ]
          },
          "metadata": {},
          "execution_count": 8
        }
      ]
    },
    {
      "cell_type": "markdown",
      "source": [
        "## 2. Data Understanding\n",
        "\n",
        "The data presented above explains the situation of buying a person buys a bike or not. Here bike is the dependent variable and ID, Marital Status, Gender, Income, HomeOwner, Cars, Age, Children, Occupation, Region,etc are the independent varibales. And for the classification task I have used the following varibales:-\n",
        "1. Income\n",
        "2. Children\n",
        "3. Cars\n",
        "4. Age\n",
        "5. Marital Status\n",
        "6. Gender\n",
        "7. Occupation\n",
        "8. Region "
      ],
      "metadata": {
        "id": "Avq50DMLOSFQ"
      }
    },
    {
      "cell_type": "markdown",
      "source": [
        "# 3. Data Analysis"
      ],
      "metadata": {
        "id": "uOacUFCu0Qj-"
      }
    },
    {
      "cell_type": "code",
      "source": [
        "data_a = dataframe2[['ID','Marital Status',\t'Gender',\t'Income',\t'Children',\t'Education',\t'Occupation',\t'Home Owner',\t'Cars',\t'Commute Distance',\t'Region',\t'Age','Purchased Bike']]\n"
      ],
      "metadata": {
        "id": "wcsxoNyuxzbG"
      },
      "execution_count": 10,
      "outputs": []
    },
    {
      "cell_type": "code",
      "source": [
        "for i in dataframe2.columns:\n",
        "  plt.hist(data_a[i])\n",
        "  plt.title(i)\n",
        "  plt.show()\n",
        "  "
      ],
      "metadata": {
        "colab": {
          "base_uri": "https://localhost:8080/",
          "height": 1000
        },
        "id": "Tq6KzYzW1Z40",
        "outputId": "b55f6cb5-bec6-4329-b933-e9ce1c30e360"
      },
      "execution_count": 11,
      "outputs": [
        {
          "output_type": "display_data",
          "data": {
            "image/png": "[encoded data removed]",
            "text/plain": [
              "<Figure size 432x288 with 1 Axes>"
            ]
          },
          "metadata": {
            "needs_background": "light"
          }
        },
        {
          "output_type": "display_data",
          "data": {
            "image/png": "[encoded data removed]",
            "text/plain": [
              "<Figure size 432x288 with 1 Axes>"
            ]
          },
          "metadata": {
            "needs_background": "light"
          }
        },
        {
          "output_type": "display_data",
          "data": {
            "image/png": "[encoded data removed]",
            "text/plain": [
              "<Figure size 432x288 with 1 Axes>"
            ]
          },
          "metadata": {
            "needs_background": "light"
          }
        },
        {
          "output_type": "display_data",
          "data": {
            "image/png": "[encoded data removed]",
            "text/plain": [
              "<Figure size 432x288 with 1 Axes>"
            ]
          },
          "metadata": {
            "needs_background": "light"
          }
        },
        {
          "output_type": "display_data",
          "data": {
            "image/png": "[encoded data removed]",
            "text/plain": [
              "<Figure size 432x288 with 1 Axes>"
            ]
          },
          "metadata": {
            "needs_background": "light"
          }
        },
        {
          "output_type": "display_data",
          "data": {
            "image/png": "[encoded data removed]",
            "text/plain": [
              "<Figure size 432x288 with 1 Axes>"
            ]
          },
          "metadata": {
            "needs_background": "light"
          }
        },
        {
          "output_type": "display_data",
          "data": {
            "image/png": "[encoded data removed]",
            "text/plain": [
              "<Figure size 432x288 with 1 Axes>"
            ]
          },
          "metadata": {
            "needs_background": "light"
          }
        },
        {
          "output_type": "display_data",
          "data": {
            "image/png": "[encoded data removed]",
            "text/plain": [
              "<Figure size 432x288 with 1 Axes>"
            ]
          },
          "metadata": {
            "needs_background": "light"
          }
        },
        {
          "output_type": "display_data",
          "data": {
            "image/png": "[encoded data removed]",
            "text/plain": [
              "<Figure size 432x288 with 1 Axes>"
            ]
          },
          "metadata": {
            "needs_background": "light"
          }
        },
        {
          "output_type": "display_data",
          "data": {
            "image/png": "[encoded data removed]",
            "text/plain": [
              "<Figure size 432x288 with 1 Axes>"
            ]
          },
          "metadata": {
            "needs_background": "light"
          }
        },
        {
          "output_type": "display_data",
          "data": {
            "image/png": "[encoded data removed]",
            "text/plain": [
              "<Figure size 432x288 with 1 Axes>"
            ]
          },
          "metadata": {
            "needs_background": "light"
          }
        },
        {
          "output_type": "display_data",
          "data": {
            "image/png": "[encoded data removed]",
            "text/plain": [
              "<Figure size 432x288 with 1 Axes>"
            ]
          },
          "metadata": {
            "needs_background": "light"
          }
        },
        {
          "output_type": "display_data",
          "data": {
            "image/png": "[encoded data removed]",
            "text/plain": [
              "<Figure size 432x288 with 1 Axes>"
            ]
          },
          "metadata": {
            "needs_background": "light"
          }
        }
      ]
    },
    {
      "cell_type": "code",
      "source": [
        "dataframe2.info()"
      ],
      "metadata": {
        "colab": {
          "base_uri": "https://localhost:8080/"
        },
        "id": "qavzTp7n4LWs",
        "outputId": "f8c2efce-cab9-46d4-fbdf-f6f34db61119"
      },
      "execution_count": 12,
      "outputs": [
        {
          "output_type": "stream",
          "name": "stdout",
          "text": [
            "<class 'pandas.core.frame.DataFrame'>\n",
            "Int64Index: 1000 entries, 0 to 999\n",
            "Data columns (total 13 columns):\n",
            " #   Column            Non-Null Count  Dtype \n",
            "---  ------            --------------  ----- \n",
            " 0   ID                1000 non-null   int64 \n",
            " 1   Marital Status    1000 non-null   object\n",
            " 2   Gender            1000 non-null   object\n",
            " 3   Income            1000 non-null   int64 \n",
            " 4   Children          1000 non-null   int64 \n",
            " 5   Education         1000 non-null   object\n",
            " 6   Occupation        1000 non-null   object\n",
            " 7   Home Owner        1000 non-null   object\n",
            " 8   Cars              1000 non-null   int64 \n",
            " 9   Commute Distance  1000 non-null   object\n",
            " 10  Region            1000 non-null   object\n",
            " 11  Age               1000 non-null   int64 \n",
            " 12  Purchased Bike    1000 non-null   object\n",
            "dtypes: int64(5), object(8)\n",
            "memory usage: 109.4+ KB\n"
          ]
        }
      ]
    },
    {
      "cell_type": "code",
      "source": [
        "fig, axs = plt.subplots( figsize=(15, 8))\n",
        "sns.boxplot(x = dataframe2['Age'])\n",
        "plt.show()"
      ],
      "metadata": {
        "colab": {
          "base_uri": "https://localhost:8080/",
          "height": 497
        },
        "id": "ZBg9dfjU2cyS",
        "outputId": "cbba8a3c-faca-4cc5-8e42-76f94c163a3e"
      },
      "execution_count": 13,
      "outputs": [
        {
          "output_type": "display_data",
          "data": {
            "image/png": "[encoded data removed]",
            "text/plain": [
              "<Figure size 1080x576 with 1 Axes>"
            ]
          },
          "metadata": {
            "needs_background": "light"
          }
        }
      ]
    },
    {
      "cell_type": "code",
      "source": [
        "fig, axs = plt.subplots( figsize=(15, 8))\n",
        "sns.boxplot(x = dataframe2['ID'])\n",
        "plt.show()"
      ],
      "metadata": {
        "colab": {
          "base_uri": "https://localhost:8080/",
          "height": 497
        },
        "id": "npU7gh1HF5x_",
        "outputId": "3393eb8c-87aa-4771-ba49-2195e5219771"
      },
      "execution_count": 14,
      "outputs": [
        {
          "output_type": "display_data",
          "data": {
            "image/png": "[encoded data removed]",
            "text/plain": [
              "<Figure size 1080x576 with 1 Axes>"
            ]
          },
          "metadata": {
            "needs_background": "light"
          }
        }
      ]
    },
    {
      "cell_type": "code",
      "source": [
        "fig, axs = plt.subplots( figsize=(15, 8))\n",
        "sns.boxplot(x = dataframe2['Income'])\n",
        "plt.show()"
      ],
      "metadata": {
        "colab": {
          "base_uri": "https://localhost:8080/",
          "height": 497
        },
        "id": "FuZ_j7Q-GFfA",
        "outputId": "983e1f04-ad02-4760-8c14-f6aa44a04e18"
      },
      "execution_count": 15,
      "outputs": [
        {
          "output_type": "display_data",
          "data": {
            "image/png": "[encoded data removed]",
            "text/plain": [
              "<Figure size 1080x576 with 1 Axes>"
            ]
          },
          "metadata": {
            "needs_background": "light"
          }
        }
      ]
    },
    {
      "cell_type": "code",
      "source": [
        "fig, axs = plt.subplots( figsize=(15, 8))\n",
        "sns.boxplot(x = dataframe2['Children'])\n",
        "plt.show()"
      ],
      "metadata": {
        "colab": {
          "base_uri": "https://localhost:8080/",
          "height": 497
        },
        "id": "MpFwXiFJGKDW",
        "outputId": "8e6bc2b9-9b71-45d0-d1d5-f85717a635bb"
      },
      "execution_count": 16,
      "outputs": [
        {
          "output_type": "display_data",
          "data": {
            "image/png": "[encoded data removed]",
            "text/plain": [
              "<Figure size 1080x576 with 1 Axes>"
            ]
          },
          "metadata": {
            "needs_background": "light"
          }
        }
      ]
    },
    {
      "cell_type": "code",
      "source": [
        "fig, axs = plt.subplots( figsize=(15, 8))\n",
        "sns.boxplot(x = dataframe2['Cars'])\n",
        "plt.show()"
      ],
      "metadata": {
        "colab": {
          "base_uri": "https://localhost:8080/",
          "height": 497
        },
        "id": "EMl6KjzQGTqJ",
        "outputId": "f94ba2c2-9991-4c59-c2af-296356638025"
      },
      "execution_count": 17,
      "outputs": [
        {
          "output_type": "display_data",
          "data": {
            "image/png": "[encoded data removed]",
            "text/plain": [
              "<Figure size 1080x576 with 1 Axes>"
            ]
          },
          "metadata": {
            "needs_background": "light"
          }
        }
      ]
    },
    {
      "cell_type": "markdown",
      "source": [
        "# 4. Logistics Regression"
      ],
      "metadata": {
        "id": "vmJjyf_60bOM"
      }
    },
    {
      "cell_type": "code",
      "source": [
        "#importing libraries for regression task\n",
        "from sklearn.linear_model import LogisticRegression\n",
        "from sklearn.preprocessing import LabelEncoder\n",
        "from sklearn.ensemble import RandomForestClassifier\n",
        "from sklearn.metrics import accuracy_score\n",
        "from sklearn.metrics import precision_score\n",
        "from sklearn.model_selection import train_test_split\n",
        "from sklearn import metrics"
      ],
      "metadata": {
        "id": "R6I2UfFq0fBC"
      },
      "execution_count": 18,
      "outputs": []
    },
    {
      "cell_type": "code",
      "source": [
        "le = LabelEncoder()"
      ],
      "metadata": {
        "id": "hnbplKymQiuy"
      },
      "execution_count": 19,
      "outputs": []
    },
    {
      "cell_type": "code",
      "source": [
        "dataframe2['mar'] = le.fit_transform(dataframe2['Marital Status'])\n",
        "dataframe2\n"
      ],
      "metadata": {
        "colab": {
          "base_uri": "https://localhost:8080/",
          "height": 468
        },
        "id": "LCRViGW3Quyq",
        "outputId": "1ffbafe9-12c6-4885-c49d-2807a8bcf987"
      },
      "execution_count": 20,
      "outputs": [
        {
          "output_type": "execute_result",
          "data": {
            "text/html": [
              "\n",
              "  <div id=\"df-31fbd0cc-d102-4968-99b2-c1042440915f\">\n",
              "    <div class=\"colab-df-container\">\n",
              "      <div>\n",
              "<style scoped>\n",
              "    .dataframe tbody tr th:only-of-type {\n",
              "        vertical-align: middle;\n",
              "    }\n",
              "\n",
              "    .dataframe tbody tr th {\n",
              "        vertical-align: top;\n",
              "    }\n",
              "\n",
              "    .dataframe thead th {\n",
              "        text-align: right;\n",
              "    }\n",
              "</style>\n",
              "<table border=\"1\" class=\"dataframe\">\n",
              "  <thead>\n",
              "    <tr style=\"text-align: right;\">\n",
              "      <th></th>\n",
              "      <th>ID</th>\n",
              "      <th>Marital Status</th>\n",
              "      <th>Gender</th>\n",
              "      <th>Income</th>\n",
              "      <th>Children</th>\n",
              "      <th>Education</th>\n",
              "      <th>Occupation</th>\n",
              "      <th>Home Owner</th>\n",
              "      <th>Cars</th>\n",
              "      <th>Commute Distance</th>\n",
              "      <th>Region</th>\n",
              "      <th>Age</th>\n",
              "      <th>Purchased Bike</th>\n",
              "      <th>mar</th>\n",
              "    </tr>\n",
              "  </thead>\n",
              "  <tbody>\n",
              "    <tr>\n",
              "      <th>0</th>\n",
              "      <td>12496</td>\n",
              "      <td>Married</td>\n",
              "      <td>Female</td>\n",
              "      <td>40000</td>\n",
              "      <td>1</td>\n",
              "      <td>Bachelors</td>\n",
              "      <td>Skilled Manual</td>\n",
              "      <td>Yes</td>\n",
              "      <td>0</td>\n",
              "      <td>0-1 Miles</td>\n",
              "      <td>Europe</td>\n",
              "      <td>42</td>\n",
              "      <td>No</td>\n",
              "      <td>0</td>\n",
              "    </tr>\n",
              "    <tr>\n",
              "      <th>1</th>\n",
              "      <td>24107</td>\n",
              "      <td>Married</td>\n",
              "      <td>Male</td>\n",
              "      <td>30000</td>\n",
              "      <td>3</td>\n",
              "      <td>Partial College</td>\n",
              "      <td>Clerical</td>\n",
              "      <td>Yes</td>\n",
              "      <td>1</td>\n",
              "      <td>0-1 Miles</td>\n",
              "      <td>Europe</td>\n",
              "      <td>43</td>\n",
              "      <td>No</td>\n",
              "      <td>0</td>\n",
              "    </tr>\n",
              "    <tr>\n",
              "      <th>2</th>\n",
              "      <td>14177</td>\n",
              "      <td>Married</td>\n",
              "      <td>Male</td>\n",
              "      <td>80000</td>\n",
              "      <td>5</td>\n",
              "      <td>Partial College</td>\n",
              "      <td>Professional</td>\n",
              "      <td>No</td>\n",
              "      <td>2</td>\n",
              "      <td>2-5 Miles</td>\n",
              "      <td>Europe</td>\n",
              "      <td>60</td>\n",
              "      <td>No</td>\n",
              "      <td>0</td>\n",
              "    </tr>\n",
              "    <tr>\n",
              "      <th>3</th>\n",
              "      <td>24381</td>\n",
              "      <td>Single</td>\n",
              "      <td>Male</td>\n",
              "      <td>70000</td>\n",
              "      <td>0</td>\n",
              "      <td>Bachelors</td>\n",
              "      <td>Professional</td>\n",
              "      <td>Yes</td>\n",
              "      <td>1</td>\n",
              "      <td>5-10 Miles</td>\n",
              "      <td>Pacific</td>\n",
              "      <td>41</td>\n",
              "      <td>Yes</td>\n",
              "      <td>1</td>\n",
              "    </tr>\n",
              "    <tr>\n",
              "      <th>4</th>\n",
              "      <td>25597</td>\n",
              "      <td>Single</td>\n",
              "      <td>Male</td>\n",
              "      <td>30000</td>\n",
              "      <td>0</td>\n",
              "      <td>Bachelors</td>\n",
              "      <td>Clerical</td>\n",
              "      <td>No</td>\n",
              "      <td>0</td>\n",
              "      <td>0-1 Miles</td>\n",
              "      <td>Europe</td>\n",
              "      <td>36</td>\n",
              "      <td>Yes</td>\n",
              "      <td>1</td>\n",
              "    </tr>\n",
              "    <tr>\n",
              "      <th>...</th>\n",
              "      <td>...</td>\n",
              "      <td>...</td>\n",
              "      <td>...</td>\n",
              "      <td>...</td>\n",
              "      <td>...</td>\n",
              "      <td>...</td>\n",
              "      <td>...</td>\n",
              "      <td>...</td>\n",
              "      <td>...</td>\n",
              "      <td>...</td>\n",
              "      <td>...</td>\n",
              "      <td>...</td>\n",
              "      <td>...</td>\n",
              "      <td>...</td>\n",
              "    </tr>\n",
              "    <tr>\n",
              "      <th>995</th>\n",
              "      <td>23731</td>\n",
              "      <td>Married</td>\n",
              "      <td>Male</td>\n",
              "      <td>60000</td>\n",
              "      <td>2</td>\n",
              "      <td>High School</td>\n",
              "      <td>Professional</td>\n",
              "      <td>Yes</td>\n",
              "      <td>2</td>\n",
              "      <td>2-5 Miles</td>\n",
              "      <td>North America</td>\n",
              "      <td>54</td>\n",
              "      <td>Yes</td>\n",
              "      <td>0</td>\n",
              "    </tr>\n",
              "    <tr>\n",
              "      <th>996</th>\n",
              "      <td>28672</td>\n",
              "      <td>Single</td>\n",
              "      <td>Male</td>\n",
              "      <td>70000</td>\n",
              "      <td>4</td>\n",
              "      <td>Graduate Degree</td>\n",
              "      <td>Professional</td>\n",
              "      <td>Yes</td>\n",
              "      <td>0</td>\n",
              "      <td>2-5 Miles</td>\n",
              "      <td>North America</td>\n",
              "      <td>35</td>\n",
              "      <td>Yes</td>\n",
              "      <td>1</td>\n",
              "    </tr>\n",
              "    <tr>\n",
              "      <th>997</th>\n",
              "      <td>11809</td>\n",
              "      <td>Married</td>\n",
              "      <td>Male</td>\n",
              "      <td>60000</td>\n",
              "      <td>2</td>\n",
              "      <td>Bachelors</td>\n",
              "      <td>Skilled Manual</td>\n",
              "      <td>Yes</td>\n",
              "      <td>0</td>\n",
              "      <td>0-1 Miles</td>\n",
              "      <td>North America</td>\n",
              "      <td>38</td>\n",
              "      <td>Yes</td>\n",
              "      <td>0</td>\n",
              "    </tr>\n",
              "    <tr>\n",
              "      <th>998</th>\n",
              "      <td>19664</td>\n",
              "      <td>Single</td>\n",
              "      <td>Male</td>\n",
              "      <td>100000</td>\n",
              "      <td>3</td>\n",
              "      <td>Bachelors</td>\n",
              "      <td>Management</td>\n",
              "      <td>No</td>\n",
              "      <td>3</td>\n",
              "      <td>1-2 Miles</td>\n",
              "      <td>North America</td>\n",
              "      <td>38</td>\n",
              "      <td>No</td>\n",
              "      <td>1</td>\n",
              "    </tr>\n",
              "    <tr>\n",
              "      <th>999</th>\n",
              "      <td>12121</td>\n",
              "      <td>Single</td>\n",
              "      <td>Male</td>\n",
              "      <td>60000</td>\n",
              "      <td>3</td>\n",
              "      <td>High School</td>\n",
              "      <td>Professional</td>\n",
              "      <td>Yes</td>\n",
              "      <td>2</td>\n",
              "      <td>10+ Miles</td>\n",
              "      <td>North America</td>\n",
              "      <td>53</td>\n",
              "      <td>Yes</td>\n",
              "      <td>1</td>\n",
              "    </tr>\n",
              "  </tbody>\n",
              "</table>\n",
              "<p>1000 rows × 14 columns</p>\n",
              "</div>\n",
              "      <button class=\"colab-df-convert\" onclick=\"convertToInteractive('df-31fbd0cc-d102-4968-99b2-c1042440915f')\"\n",
              "              title=\"Convert this dataframe to an interactive table.\"\n",
              "              style=\"display:none;\">\n",
              "        \n",
              "  <svg xmlns=\"http://www.w3.org/2000/svg\" height=\"24px\"viewBox=\"0 0 24 24\"\n",
              "       width=\"24px\">\n",
              "    <path d=\"M0 0h24v24H0V0z\" fill=\"none\"/>\n",
              "    <path d=\"M18.56 5.44l.94 2.06.94-2.06 2.06-.94-2.06-.94-.94-2.06-.94 2.06-2.06.94zm-11 1L8.5 8.5l.94-2.06 2.06-.94-2.06-.94L8.5 2.5l-.94 2.06-2.06.94zm10 10l.94 2.06.94-2.06 2.06-.94-2.06-.94-.94-2.06-.94 2.06-2.06.94z\"/><path d=\"M17.41 7.96l-1.37-1.37c-.4-.4-.92-.59-1.43-.59-.52 0-1.04.2-1.43.59L10.3 9.45l-7.72 7.72c-.78.78-.78 2.05 0 2.83L4 21.41c.39.39.9.59 1.41.59.51 0 1.02-.2 1.41-.59l7.78-7.78 2.81-2.81c.8-.78.8-2.07 0-2.86zM5.41 20L4 18.59l7.72-7.72 1.47 1.35L5.41 20z\"/>\n",
              "  </svg>\n",
              "      </button>\n",
              "      \n",
              "  <style>\n",
              "    .colab-df-container {\n",
              "      display:flex;\n",
              "      flex-wrap:wrap;\n",
              "      gap: 12px;\n",
              "    }\n",
              "\n",
              "    .colab-df-convert {\n",
              "      background-color: #E8F0FE;\n",
              "      border: none;\n",
              "      border-radius: 50%;\n",
              "      cursor: pointer;\n",
              "      display: none;\n",
              "      fill: #1967D2;\n",
              "      height: 32px;\n",
              "      padding: 0 0 0 0;\n",
              "      width: 32px;\n",
              "    }\n",
              "\n",
              "    .colab-df-convert:hover {\n",
              "      background-color: #E2EBFA;\n",
              "      box-shadow: 0px 1px 2px rgba(60, 64, 67, 0.3), 0px 1px 3px 1px rgba(60, 64, 67, 0.15);\n",
              "      fill: #174EA6;\n",
              "    }\n",
              "\n",
              "    [theme=dark] .colab-df-convert {\n",
              "      background-color: #3B4455;\n",
              "      fill: #D2E3FC;\n",
              "    }\n",
              "\n",
              "    [theme=dark] .colab-df-convert:hover {\n",
              "      background-color: #434B5C;\n",
              "      box-shadow: 0px 1px 3px 1px rgba(0, 0, 0, 0.15);\n",
              "      filter: drop-shadow(0px 1px 2px rgba(0, 0, 0, 0.3));\n",
              "      fill: #FFFFFF;\n",
              "    }\n",
              "  </style>\n",
              "\n",
              "      <script>\n",
              "        const buttonEl =\n",
              "          document.querySelector('#df-31fbd0cc-d102-4968-99b2-c1042440915f button.colab-df-convert');\n",
              "        buttonEl.style.display =\n",
              "          google.colab.kernel.accessAllowed ? 'block' : 'none';\n",
              "\n",
              "        async function convertToInteractive(key) {\n",
              "          const element = document.querySelector('#df-31fbd0cc-d102-4968-99b2-c1042440915f');\n",
              "          const dataTable =\n",
              "            await google.colab.kernel.invokeFunction('convertToInteractive',\n",
              "                                                     [key], {});\n",
              "          if (!dataTable) return;\n",
              "\n",
              "          const docLinkHtml = 'Like what you see? Visit the ' +\n",
              "            '<a target=\"_blank\" href=https://colab.research.google.com/notebooks/data_table.ipynb>data table notebook</a>'\n",
              "            + ' to learn more about interactive tables.';\n",
              "          element.innerHTML = '';\n",
              "          dataTable['output_type'] = 'display_data';\n",
              "          await google.colab.output.renderOutput(dataTable, element);\n",
              "          const docLink = document.createElement('div');\n",
              "          docLink.innerHTML = docLinkHtml;\n",
              "          element.appendChild(docLink);\n",
              "        }\n",
              "      </script>\n",
              "    </div>\n",
              "  </div>\n",
              "  "
            ],
            "text/plain": [
              "        ID Marital Status  Gender  ...  Age  Purchased Bike mar\n",
              "0    12496        Married  Female  ...   42              No   0\n",
              "1    24107        Married    Male  ...   43              No   0\n",
              "2    14177        Married    Male  ...   60              No   0\n",
              "3    24381         Single    Male  ...   41             Yes   1\n",
              "4    25597         Single    Male  ...   36             Yes   1\n",
              "..     ...            ...     ...  ...  ...             ...  ..\n",
              "995  23731        Married    Male  ...   54             Yes   0\n",
              "996  28672         Single    Male  ...   35             Yes   1\n",
              "997  11809        Married    Male  ...   38             Yes   0\n",
              "998  19664         Single    Male  ...   38              No   1\n",
              "999  12121         Single    Male  ...   53             Yes   1\n",
              "\n",
              "[1000 rows x 14 columns]"
            ]
          },
          "metadata": {},
          "execution_count": 20
        }
      ]
    },
    {
      "cell_type": "code",
      "source": [
        "#transforming string data into integer type using Label Encoder Fit transform\n",
        "dataframe2['gender'] = le.fit_transform(dataframe2['Gender'])\n",
        "dataframe2['occp'] = le.fit_transform(dataframe2['Occupation'])\n",
        "dataframe2['reg'] = le.fit_transform(dataframe2['Region'])\n",
        "dataframe2['bike'] = le.fit_transform(dataframe2['Purchased Bike'])"
      ],
      "metadata": {
        "id": "LvWJ8j_HRSvu"
      },
      "execution_count": 21,
      "outputs": []
    },
    {
      "cell_type": "code",
      "source": [
        "dataframe2"
      ],
      "metadata": {
        "colab": {
          "base_uri": "https://localhost:8080/",
          "height": 624
        },
        "id": "Hgd1ZS8-RboQ",
        "outputId": "8f1252dc-bc41-4863-cb2d-f423edf63fab"
      },
      "execution_count": 22,
      "outputs": [
        {
          "output_type": "execute_result",
          "data": {
            "text/html": [
              "\n",
              "  <div id=\"df-616a5f70-b8a8-4bce-8430-86f95a108359\">\n",
              "    <div class=\"colab-df-container\">\n",
              "      <div>\n",
              "<style scoped>\n",
              "    .dataframe tbody tr th:only-of-type {\n",
              "        vertical-align: middle;\n",
              "    }\n",
              "\n",
              "    .dataframe tbody tr th {\n",
              "        vertical-align: top;\n",
              "    }\n",
              "\n",
              "    .dataframe thead th {\n",
              "        text-align: right;\n",
              "    }\n",
              "</style>\n",
              "<table border=\"1\" class=\"dataframe\">\n",
              "  <thead>\n",
              "    <tr style=\"text-align: right;\">\n",
              "      <th></th>\n",
              "      <th>ID</th>\n",
              "      <th>Marital Status</th>\n",
              "      <th>Gender</th>\n",
              "      <th>Income</th>\n",
              "      <th>Children</th>\n",
              "      <th>Education</th>\n",
              "      <th>Occupation</th>\n",
              "      <th>Home Owner</th>\n",
              "      <th>Cars</th>\n",
              "      <th>Commute Distance</th>\n",
              "      <th>Region</th>\n",
              "      <th>Age</th>\n",
              "      <th>Purchased Bike</th>\n",
              "      <th>mar</th>\n",
              "      <th>gender</th>\n",
              "      <th>occp</th>\n",
              "      <th>reg</th>\n",
              "      <th>bike</th>\n",
              "    </tr>\n",
              "  </thead>\n",
              "  <tbody>\n",
              "    <tr>\n",
              "      <th>0</th>\n",
              "      <td>12496</td>\n",
              "      <td>Married</td>\n",
              "      <td>Female</td>\n",
              "      <td>40000</td>\n",
              "      <td>1</td>\n",
              "      <td>Bachelors</td>\n",
              "      <td>Skilled Manual</td>\n",
              "      <td>Yes</td>\n",
              "      <td>0</td>\n",
              "      <td>0-1 Miles</td>\n",
              "      <td>Europe</td>\n",
              "      <td>42</td>\n",
              "      <td>No</td>\n",
              "      <td>0</td>\n",
              "      <td>0</td>\n",
              "      <td>4</td>\n",
              "      <td>0</td>\n",
              "      <td>0</td>\n",
              "    </tr>\n",
              "    <tr>\n",
              "      <th>1</th>\n",
              "      <td>24107</td>\n",
              "      <td>Married</td>\n",
              "      <td>Male</td>\n",
              "      <td>30000</td>\n",
              "      <td>3</td>\n",
              "      <td>Partial College</td>\n",
              "      <td>Clerical</td>\n",
              "      <td>Yes</td>\n",
              "      <td>1</td>\n",
              "      <td>0-1 Miles</td>\n",
              "      <td>Europe</td>\n",
              "      <td>43</td>\n",
              "      <td>No</td>\n",
              "      <td>0</td>\n",
              "      <td>1</td>\n",
              "      <td>0</td>\n",
              "      <td>0</td>\n",
              "      <td>0</td>\n",
              "    </tr>\n",
              "    <tr>\n",
              "      <th>2</th>\n",
              "      <td>14177</td>\n",
              "      <td>Married</td>\n",
              "      <td>Male</td>\n",
              "      <td>80000</td>\n",
              "      <td>5</td>\n",
              "      <td>Partial College</td>\n",
              "      <td>Professional</td>\n",
              "      <td>No</td>\n",
              "      <td>2</td>\n",
              "      <td>2-5 Miles</td>\n",
              "      <td>Europe</td>\n",
              "      <td>60</td>\n",
              "      <td>No</td>\n",
              "      <td>0</td>\n",
              "      <td>1</td>\n",
              "      <td>3</td>\n",
              "      <td>0</td>\n",
              "      <td>0</td>\n",
              "    </tr>\n",
              "    <tr>\n",
              "      <th>3</th>\n",
              "      <td>24381</td>\n",
              "      <td>Single</td>\n",
              "      <td>Male</td>\n",
              "      <td>70000</td>\n",
              "      <td>0</td>\n",
              "      <td>Bachelors</td>\n",
              "      <td>Professional</td>\n",
              "      <td>Yes</td>\n",
              "      <td>1</td>\n",
              "      <td>5-10 Miles</td>\n",
              "      <td>Pacific</td>\n",
              "      <td>41</td>\n",
              "      <td>Yes</td>\n",
              "      <td>1</td>\n",
              "      <td>1</td>\n",
              "      <td>3</td>\n",
              "      <td>2</td>\n",
              "      <td>1</td>\n",
              "    </tr>\n",
              "    <tr>\n",
              "      <th>4</th>\n",
              "      <td>25597</td>\n",
              "      <td>Single</td>\n",
              "      <td>Male</td>\n",
              "      <td>30000</td>\n",
              "      <td>0</td>\n",
              "      <td>Bachelors</td>\n",
              "      <td>Clerical</td>\n",
              "      <td>No</td>\n",
              "      <td>0</td>\n",
              "      <td>0-1 Miles</td>\n",
              "      <td>Europe</td>\n",
              "      <td>36</td>\n",
              "      <td>Yes</td>\n",
              "      <td>1</td>\n",
              "      <td>1</td>\n",
              "      <td>0</td>\n",
              "      <td>0</td>\n",
              "      <td>1</td>\n",
              "    </tr>\n",
              "    <tr>\n",
              "      <th>...</th>\n",
              "      <td>...</td>\n",
              "      <td>...</td>\n",
              "      <td>...</td>\n",
              "      <td>...</td>\n",
              "      <td>...</td>\n",
              "      <td>...</td>\n",
              "      <td>...</td>\n",
              "      <td>...</td>\n",
              "      <td>...</td>\n",
              "      <td>...</td>\n",
              "      <td>...</td>\n",
              "      <td>...</td>\n",
              "      <td>...</td>\n",
              "      <td>...</td>\n",
              "      <td>...</td>\n",
              "      <td>...</td>\n",
              "      <td>...</td>\n",
              "      <td>...</td>\n",
              "    </tr>\n",
              "    <tr>\n",
              "      <th>995</th>\n",
              "      <td>23731</td>\n",
              "      <td>Married</td>\n",
              "      <td>Male</td>\n",
              "      <td>60000</td>\n",
              "      <td>2</td>\n",
              "      <td>High School</td>\n",
              "      <td>Professional</td>\n",
              "      <td>Yes</td>\n",
              "      <td>2</td>\n",
              "      <td>2-5 Miles</td>\n",
              "      <td>North America</td>\n",
              "      <td>54</td>\n",
              "      <td>Yes</td>\n",
              "      <td>0</td>\n",
              "      <td>1</td>\n",
              "      <td>3</td>\n",
              "      <td>1</td>\n",
              "      <td>1</td>\n",
              "    </tr>\n",
              "    <tr>\n",
              "      <th>996</th>\n",
              "      <td>28672</td>\n",
              "      <td>Single</td>\n",
              "      <td>Male</td>\n",
              "      <td>70000</td>\n",
              "      <td>4</td>\n",
              "      <td>Graduate Degree</td>\n",
              "      <td>Professional</td>\n",
              "      <td>Yes</td>\n",
              "      <td>0</td>\n",
              "      <td>2-5 Miles</td>\n",
              "      <td>North America</td>\n",
              "      <td>35</td>\n",
              "      <td>Yes</td>\n",
              "      <td>1</td>\n",
              "      <td>1</td>\n",
              "      <td>3</td>\n",
              "      <td>1</td>\n",
              "      <td>1</td>\n",
              "    </tr>\n",
              "    <tr>\n",
              "      <th>997</th>\n",
              "      <td>11809</td>\n",
              "      <td>Married</td>\n",
              "      <td>Male</td>\n",
              "      <td>60000</td>\n",
              "      <td>2</td>\n",
              "      <td>Bachelors</td>\n",
              "      <td>Skilled Manual</td>\n",
              "      <td>Yes</td>\n",
              "      <td>0</td>\n",
              "      <td>0-1 Miles</td>\n",
              "      <td>North America</td>\n",
              "      <td>38</td>\n",
              "      <td>Yes</td>\n",
              "      <td>0</td>\n",
              "      <td>1</td>\n",
              "      <td>4</td>\n",
              "      <td>1</td>\n",
              "      <td>1</td>\n",
              "    </tr>\n",
              "    <tr>\n",
              "      <th>998</th>\n",
              "      <td>19664</td>\n",
              "      <td>Single</td>\n",
              "      <td>Male</td>\n",
              "      <td>100000</td>\n",
              "      <td>3</td>\n",
              "      <td>Bachelors</td>\n",
              "      <td>Management</td>\n",
              "      <td>No</td>\n",
              "      <td>3</td>\n",
              "      <td>1-2 Miles</td>\n",
              "      <td>North America</td>\n",
              "      <td>38</td>\n",
              "      <td>No</td>\n",
              "      <td>1</td>\n",
              "      <td>1</td>\n",
              "      <td>1</td>\n",
              "      <td>1</td>\n",
              "      <td>0</td>\n",
              "    </tr>\n",
              "    <tr>\n",
              "      <th>999</th>\n",
              "      <td>12121</td>\n",
              "      <td>Single</td>\n",
              "      <td>Male</td>\n",
              "      <td>60000</td>\n",
              "      <td>3</td>\n",
              "      <td>High School</td>\n",
              "      <td>Professional</td>\n",
              "      <td>Yes</td>\n",
              "      <td>2</td>\n",
              "      <td>10+ Miles</td>\n",
              "      <td>North America</td>\n",
              "      <td>53</td>\n",
              "      <td>Yes</td>\n",
              "      <td>1</td>\n",
              "      <td>1</td>\n",
              "      <td>3</td>\n",
              "      <td>1</td>\n",
              "      <td>1</td>\n",
              "    </tr>\n",
              "  </tbody>\n",
              "</table>\n",
              "<p>1000 rows × 18 columns</p>\n",
              "</div>\n",
              "      <button class=\"colab-df-convert\" onclick=\"convertToInteractive('df-616a5f70-b8a8-4bce-8430-86f95a108359')\"\n",
              "              title=\"Convert this dataframe to an interactive table.\"\n",
              "              style=\"display:none;\">\n",
              "        \n",
              "  <svg xmlns=\"http://www.w3.org/2000/svg\" height=\"24px\"viewBox=\"0 0 24 24\"\n",
              "       width=\"24px\">\n",
              "    <path d=\"M0 0h24v24H0V0z\" fill=\"none\"/>\n",
              "    <path d=\"M18.56 5.44l.94 2.06.94-2.06 2.06-.94-2.06-.94-.94-2.06-.94 2.06-2.06.94zm-11 1L8.5 8.5l.94-2.06 2.06-.94-2.06-.94L8.5 2.5l-.94 2.06-2.06.94zm10 10l.94 2.06.94-2.06 2.06-.94-2.06-.94-.94-2.06-.94 2.06-2.06.94z\"/><path d=\"M17.41 7.96l-1.37-1.37c-.4-.4-.92-.59-1.43-.59-.52 0-1.04.2-1.43.59L10.3 9.45l-7.72 7.72c-.78.78-.78 2.05 0 2.83L4 21.41c.39.39.9.59 1.41.59.51 0 1.02-.2 1.41-.59l7.78-7.78 2.81-2.81c.8-.78.8-2.07 0-2.86zM5.41 20L4 18.59l7.72-7.72 1.47 1.35L5.41 20z\"/>\n",
              "  </svg>\n",
              "      </button>\n",
              "      \n",
              "  <style>\n",
              "    .colab-df-container {\n",
              "      display:flex;\n",
              "      flex-wrap:wrap;\n",
              "      gap: 12px;\n",
              "    }\n",
              "\n",
              "    .colab-df-convert {\n",
              "      background-color: #E8F0FE;\n",
              "      border: none;\n",
              "      border-radius: 50%;\n",
              "      cursor: pointer;\n",
              "      display: none;\n",
              "      fill: #1967D2;\n",
              "      height: 32px;\n",
              "      padding: 0 0 0 0;\n",
              "      width: 32px;\n",
              "    }\n",
              "\n",
              "    .colab-df-convert:hover {\n",
              "      background-color: #E2EBFA;\n",
              "      box-shadow: 0px 1px 2px rgba(60, 64, 67, 0.3), 0px 1px 3px 1px rgba(60, 64, 67, 0.15);\n",
              "      fill: #174EA6;\n",
              "    }\n",
              "\n",
              "    [theme=dark] .colab-df-convert {\n",
              "      background-color: #3B4455;\n",
              "      fill: #D2E3FC;\n",
              "    }\n",
              "\n",
              "    [theme=dark] .colab-df-convert:hover {\n",
              "      background-color: #434B5C;\n",
              "      box-shadow: 0px 1px 3px 1px rgba(0, 0, 0, 0.15);\n",
              "      filter: drop-shadow(0px 1px 2px rgba(0, 0, 0, 0.3));\n",
              "      fill: #FFFFFF;\n",
              "    }\n",
              "  </style>\n",
              "\n",
              "      <script>\n",
              "        const buttonEl =\n",
              "          document.querySelector('#df-616a5f70-b8a8-4bce-8430-86f95a108359 button.colab-df-convert');\n",
              "        buttonEl.style.display =\n",
              "          google.colab.kernel.accessAllowed ? 'block' : 'none';\n",
              "\n",
              "        async function convertToInteractive(key) {\n",
              "          const element = document.querySelector('#df-616a5f70-b8a8-4bce-8430-86f95a108359');\n",
              "          const dataTable =\n",
              "            await google.colab.kernel.invokeFunction('convertToInteractive',\n",
              "                                                     [key], {});\n",
              "          if (!dataTable) return;\n",
              "\n",
              "          const docLinkHtml = 'Like what you see? Visit the ' +\n",
              "            '<a target=\"_blank\" href=https://colab.research.google.com/notebooks/data_table.ipynb>data table notebook</a>'\n",
              "            + ' to learn more about interactive tables.';\n",
              "          element.innerHTML = '';\n",
              "          dataTable['output_type'] = 'display_data';\n",
              "          await google.colab.output.renderOutput(dataTable, element);\n",
              "          const docLink = document.createElement('div');\n",
              "          docLink.innerHTML = docLinkHtml;\n",
              "          element.appendChild(docLink);\n",
              "        }\n",
              "      </script>\n",
              "    </div>\n",
              "  </div>\n",
              "  "
            ],
            "text/plain": [
              "        ID Marital Status  Gender  Income  ...  gender occp reg bike\n",
              "0    12496        Married  Female   40000  ...       0    4   0    0\n",
              "1    24107        Married    Male   30000  ...       1    0   0    0\n",
              "2    14177        Married    Male   80000  ...       1    3   0    0\n",
              "3    24381         Single    Male   70000  ...       1    3   2    1\n",
              "4    25597         Single    Male   30000  ...       1    0   0    1\n",
              "..     ...            ...     ...     ...  ...     ...  ...  ..  ...\n",
              "995  23731        Married    Male   60000  ...       1    3   1    1\n",
              "996  28672         Single    Male   70000  ...       1    3   1    1\n",
              "997  11809        Married    Male   60000  ...       1    4   1    1\n",
              "998  19664         Single    Male  100000  ...       1    1   1    0\n",
              "999  12121         Single    Male   60000  ...       1    3   1    1\n",
              "\n",
              "[1000 rows x 18 columns]"
            ]
          },
          "metadata": {},
          "execution_count": 22
        }
      ]
    },
    {
      "cell_type": "code",
      "source": [
        "#taking only int datatype\n",
        "data = dataframe2[['Income','Children','Cars','Age','mar','gender','occp','reg','bike']]\n",
        "data"
      ],
      "metadata": {
        "colab": {
          "base_uri": "https://localhost:8080/",
          "height": 424
        },
        "id": "UGa-JJqERfNd",
        "outputId": "e3e83f96-ad6e-428e-d2e6-8285f8128681"
      },
      "execution_count": 23,
      "outputs": [
        {
          "output_type": "execute_result",
          "data": {
            "text/html": [
              "\n",
              "  <div id=\"df-196527fb-165d-46a5-88c5-61c05edfef8c\">\n",
              "    <div class=\"colab-df-container\">\n",
              "      <div>\n",
              "<style scoped>\n",
              "    .dataframe tbody tr th:only-of-type {\n",
              "        vertical-align: middle;\n",
              "    }\n",
              "\n",
              "    .dataframe tbody tr th {\n",
              "        vertical-align: top;\n",
              "    }\n",
              "\n",
              "    .dataframe thead th {\n",
              "        text-align: right;\n",
              "    }\n",
              "</style>\n",
              "<table border=\"1\" class=\"dataframe\">\n",
              "  <thead>\n",
              "    <tr style=\"text-align: right;\">\n",
              "      <th></th>\n",
              "      <th>Income</th>\n",
              "      <th>Children</th>\n",
              "      <th>Cars</th>\n",
              "      <th>Age</th>\n",
              "      <th>mar</th>\n",
              "      <th>gender</th>\n",
              "      <th>occp</th>\n",
              "      <th>reg</th>\n",
              "      <th>bike</th>\n",
              "    </tr>\n",
              "  </thead>\n",
              "  <tbody>\n",
              "    <tr>\n",
              "      <th>0</th>\n",
              "      <td>40000</td>\n",
              "      <td>1</td>\n",
              "      <td>0</td>\n",
              "      <td>42</td>\n",
              "      <td>0</td>\n",
              "      <td>0</td>\n",
              "      <td>4</td>\n",
              "      <td>0</td>\n",
              "      <td>0</td>\n",
              "    </tr>\n",
              "    <tr>\n",
              "      <th>1</th>\n",
              "      <td>30000</td>\n",
              "      <td>3</td>\n",
              "      <td>1</td>\n",
              "      <td>43</td>\n",
              "      <td>0</td>\n",
              "      <td>1</td>\n",
              "      <td>0</td>\n",
              "      <td>0</td>\n",
              "      <td>0</td>\n",
              "    </tr>\n",
              "    <tr>\n",
              "      <th>2</th>\n",
              "      <td>80000</td>\n",
              "      <td>5</td>\n",
              "      <td>2</td>\n",
              "      <td>60</td>\n",
              "      <td>0</td>\n",
              "      <td>1</td>\n",
              "      <td>3</td>\n",
              "      <td>0</td>\n",
              "      <td>0</td>\n",
              "    </tr>\n",
              "    <tr>\n",
              "      <th>3</th>\n",
              "      <td>70000</td>\n",
              "      <td>0</td>\n",
              "      <td>1</td>\n",
              "      <td>41</td>\n",
              "      <td>1</td>\n",
              "      <td>1</td>\n",
              "      <td>3</td>\n",
              "      <td>2</td>\n",
              "      <td>1</td>\n",
              "    </tr>\n",
              "    <tr>\n",
              "      <th>4</th>\n",
              "      <td>30000</td>\n",
              "      <td>0</td>\n",
              "      <td>0</td>\n",
              "      <td>36</td>\n",
              "      <td>1</td>\n",
              "      <td>1</td>\n",
              "      <td>0</td>\n",
              "      <td>0</td>\n",
              "      <td>1</td>\n",
              "    </tr>\n",
              "    <tr>\n",
              "      <th>...</th>\n",
              "      <td>...</td>\n",
              "      <td>...</td>\n",
              "      <td>...</td>\n",
              "      <td>...</td>\n",
              "      <td>...</td>\n",
              "      <td>...</td>\n",
              "      <td>...</td>\n",
              "      <td>...</td>\n",
              "      <td>...</td>\n",
              "    </tr>\n",
              "    <tr>\n",
              "      <th>995</th>\n",
              "      <td>60000</td>\n",
              "      <td>2</td>\n",
              "      <td>2</td>\n",
              "      <td>54</td>\n",
              "      <td>0</td>\n",
              "      <td>1</td>\n",
              "      <td>3</td>\n",
              "      <td>1</td>\n",
              "      <td>1</td>\n",
              "    </tr>\n",
              "    <tr>\n",
              "      <th>996</th>\n",
              "      <td>70000</td>\n",
              "      <td>4</td>\n",
              "      <td>0</td>\n",
              "      <td>35</td>\n",
              "      <td>1</td>\n",
              "      <td>1</td>\n",
              "      <td>3</td>\n",
              "      <td>1</td>\n",
              "      <td>1</td>\n",
              "    </tr>\n",
              "    <tr>\n",
              "      <th>997</th>\n",
              "      <td>60000</td>\n",
              "      <td>2</td>\n",
              "      <td>0</td>\n",
              "      <td>38</td>\n",
              "      <td>0</td>\n",
              "      <td>1</td>\n",
              "      <td>4</td>\n",
              "      <td>1</td>\n",
              "      <td>1</td>\n",
              "    </tr>\n",
              "    <tr>\n",
              "      <th>998</th>\n",
              "      <td>100000</td>\n",
              "      <td>3</td>\n",
              "      <td>3</td>\n",
              "      <td>38</td>\n",
              "      <td>1</td>\n",
              "      <td>1</td>\n",
              "      <td>1</td>\n",
              "      <td>1</td>\n",
              "      <td>0</td>\n",
              "    </tr>\n",
              "    <tr>\n",
              "      <th>999</th>\n",
              "      <td>60000</td>\n",
              "      <td>3</td>\n",
              "      <td>2</td>\n",
              "      <td>53</td>\n",
              "      <td>1</td>\n",
              "      <td>1</td>\n",
              "      <td>3</td>\n",
              "      <td>1</td>\n",
              "      <td>1</td>\n",
              "    </tr>\n",
              "  </tbody>\n",
              "</table>\n",
              "<p>1000 rows × 9 columns</p>\n",
              "</div>\n",
              "      <button class=\"colab-df-convert\" onclick=\"convertToInteractive('df-196527fb-165d-46a5-88c5-61c05edfef8c')\"\n",
              "              title=\"Convert this dataframe to an interactive table.\"\n",
              "              style=\"display:none;\">\n",
              "        \n",
              "  <svg xmlns=\"http://www.w3.org/2000/svg\" height=\"24px\"viewBox=\"0 0 24 24\"\n",
              "       width=\"24px\">\n",
              "    <path d=\"M0 0h24v24H0V0z\" fill=\"none\"/>\n",
              "    <path d=\"M18.56 5.44l.94 2.06.94-2.06 2.06-.94-2.06-.94-.94-2.06-.94 2.06-2.06.94zm-11 1L8.5 8.5l.94-2.06 2.06-.94-2.06-.94L8.5 2.5l-.94 2.06-2.06.94zm10 10l.94 2.06.94-2.06 2.06-.94-2.06-.94-.94-2.06-.94 2.06-2.06.94z\"/><path d=\"M17.41 7.96l-1.37-1.37c-.4-.4-.92-.59-1.43-.59-.52 0-1.04.2-1.43.59L10.3 9.45l-7.72 7.72c-.78.78-.78 2.05 0 2.83L4 21.41c.39.39.9.59 1.41.59.51 0 1.02-.2 1.41-.59l7.78-7.78 2.81-2.81c.8-.78.8-2.07 0-2.86zM5.41 20L4 18.59l7.72-7.72 1.47 1.35L5.41 20z\"/>\n",
              "  </svg>\n",
              "      </button>\n",
              "      \n",
              "  <style>\n",
              "    .colab-df-container {\n",
              "      display:flex;\n",
              "      flex-wrap:wrap;\n",
              "      gap: 12px;\n",
              "    }\n",
              "\n",
              "    .colab-df-convert {\n",
              "      background-color: #E8F0FE;\n",
              "      border: none;\n",
              "      border-radius: 50%;\n",
              "      cursor: pointer;\n",
              "      display: none;\n",
              "      fill: #1967D2;\n",
              "      height: 32px;\n",
              "      padding: 0 0 0 0;\n",
              "      width: 32px;\n",
              "    }\n",
              "\n",
              "    .colab-df-convert:hover {\n",
              "      background-color: #E2EBFA;\n",
              "      box-shadow: 0px 1px 2px rgba(60, 64, 67, 0.3), 0px 1px 3px 1px rgba(60, 64, 67, 0.15);\n",
              "      fill: #174EA6;\n",
              "    }\n",
              "\n",
              "    [theme=dark] .colab-df-convert {\n",
              "      background-color: #3B4455;\n",
              "      fill: #D2E3FC;\n",
              "    }\n",
              "\n",
              "    [theme=dark] .colab-df-convert:hover {\n",
              "      background-color: #434B5C;\n",
              "      box-shadow: 0px 1px 3px 1px rgba(0, 0, 0, 0.15);\n",
              "      filter: drop-shadow(0px 1px 2px rgba(0, 0, 0, 0.3));\n",
              "      fill: #FFFFFF;\n",
              "    }\n",
              "  </style>\n",
              "\n",
              "      <script>\n",
              "        const buttonEl =\n",
              "          document.querySelector('#df-196527fb-165d-46a5-88c5-61c05edfef8c button.colab-df-convert');\n",
              "        buttonEl.style.display =\n",
              "          google.colab.kernel.accessAllowed ? 'block' : 'none';\n",
              "\n",
              "        async function convertToInteractive(key) {\n",
              "          const element = document.querySelector('#df-196527fb-165d-46a5-88c5-61c05edfef8c');\n",
              "          const dataTable =\n",
              "            await google.colab.kernel.invokeFunction('convertToInteractive',\n",
              "                                                     [key], {});\n",
              "          if (!dataTable) return;\n",
              "\n",
              "          const docLinkHtml = 'Like what you see? Visit the ' +\n",
              "            '<a target=\"_blank\" href=https://colab.research.google.com/notebooks/data_table.ipynb>data table notebook</a>'\n",
              "            + ' to learn more about interactive tables.';\n",
              "          element.innerHTML = '';\n",
              "          dataTable['output_type'] = 'display_data';\n",
              "          await google.colab.output.renderOutput(dataTable, element);\n",
              "          const docLink = document.createElement('div');\n",
              "          docLink.innerHTML = docLinkHtml;\n",
              "          element.appendChild(docLink);\n",
              "        }\n",
              "      </script>\n",
              "    </div>\n",
              "  </div>\n",
              "  "
            ],
            "text/plain": [
              "     Income  Children  Cars  Age  mar  gender  occp  reg  bike\n",
              "0     40000         1     0   42    0       0     4    0     0\n",
              "1     30000         3     1   43    0       1     0    0     0\n",
              "2     80000         5     2   60    0       1     3    0     0\n",
              "3     70000         0     1   41    1       1     3    2     1\n",
              "4     30000         0     0   36    1       1     0    0     1\n",
              "..      ...       ...   ...  ...  ...     ...   ...  ...   ...\n",
              "995   60000         2     2   54    0       1     3    1     1\n",
              "996   70000         4     0   35    1       1     3    1     1\n",
              "997   60000         2     0   38    0       1     4    1     1\n",
              "998  100000         3     3   38    1       1     1    1     0\n",
              "999   60000         3     2   53    1       1     3    1     1\n",
              "\n",
              "[1000 rows x 9 columns]"
            ]
          },
          "metadata": {},
          "execution_count": 23
        }
      ]
    },
    {
      "cell_type": "code",
      "source": [
        "data.info()"
      ],
      "metadata": {
        "colab": {
          "base_uri": "https://localhost:8080/"
        },
        "id": "A0Q8ID0ARiON",
        "outputId": "4aee3974-9684-4c2b-9334-301b7e402347"
      },
      "execution_count": 24,
      "outputs": [
        {
          "output_type": "stream",
          "name": "stdout",
          "text": [
            "<class 'pandas.core.frame.DataFrame'>\n",
            "Int64Index: 1000 entries, 0 to 999\n",
            "Data columns (total 9 columns):\n",
            " #   Column    Non-Null Count  Dtype\n",
            "---  ------    --------------  -----\n",
            " 0   Income    1000 non-null   int64\n",
            " 1   Children  1000 non-null   int64\n",
            " 2   Cars      1000 non-null   int64\n",
            " 3   Age       1000 non-null   int64\n",
            " 4   mar       1000 non-null   int64\n",
            " 5   gender    1000 non-null   int64\n",
            " 6   occp      1000 non-null   int64\n",
            " 7   reg       1000 non-null   int64\n",
            " 8   bike      1000 non-null   int64\n",
            "dtypes: int64(9)\n",
            "memory usage: 78.1 KB\n"
          ]
        }
      ]
    },
    {
      "cell_type": "code",
      "source": [
        "x = data[['Income','Children','Cars','Age','mar','gender','occp','reg']]\n",
        "y = data['bike']"
      ],
      "metadata": {
        "id": "6TNx6TC4RlnM"
      },
      "execution_count": 25,
      "outputs": []
    },
    {
      "cell_type": "code",
      "source": [
        "x"
      ],
      "metadata": {
        "colab": {
          "base_uri": "https://localhost:8080/",
          "height": 424
        },
        "id": "saCLpGSfRsWB",
        "outputId": "7e0b477b-6873-4656-d67a-d4db3289f1c3"
      },
      "execution_count": 26,
      "outputs": [
        {
          "output_type": "execute_result",
          "data": {
            "text/html": [
              "\n",
              "  <div id=\"df-fad59983-5d46-4628-a1fe-bddf68b16fe5\">\n",
              "    <div class=\"colab-df-container\">\n",
              "      <div>\n",
              "<style scoped>\n",
              "    .dataframe tbody tr th:only-of-type {\n",
              "        vertical-align: middle;\n",
              "    }\n",
              "\n",
              "    .dataframe tbody tr th {\n",
              "        vertical-align: top;\n",
              "    }\n",
              "\n",
              "    .dataframe thead th {\n",
              "        text-align: right;\n",
              "    }\n",
              "</style>\n",
              "<table border=\"1\" class=\"dataframe\">\n",
              "  <thead>\n",
              "    <tr style=\"text-align: right;\">\n",
              "      <th></th>\n",
              "      <th>Income</th>\n",
              "      <th>Children</th>\n",
              "      <th>Cars</th>\n",
              "      <th>Age</th>\n",
              "      <th>mar</th>\n",
              "      <th>gender</th>\n",
              "      <th>occp</th>\n",
              "      <th>reg</th>\n",
              "    </tr>\n",
              "  </thead>\n",
              "  <tbody>\n",
              "    <tr>\n",
              "      <th>0</th>\n",
              "      <td>40000</td>\n",
              "      <td>1</td>\n",
              "      <td>0</td>\n",
              "      <td>42</td>\n",
              "      <td>0</td>\n",
              "      <td>0</td>\n",
              "      <td>4</td>\n",
              "      <td>0</td>\n",
              "    </tr>\n",
              "    <tr>\n",
              "      <th>1</th>\n",
              "      <td>30000</td>\n",
              "      <td>3</td>\n",
              "      <td>1</td>\n",
              "      <td>43</td>\n",
              "      <td>0</td>\n",
              "      <td>1</td>\n",
              "      <td>0</td>\n",
              "      <td>0</td>\n",
              "    </tr>\n",
              "    <tr>\n",
              "      <th>2</th>\n",
              "      <td>80000</td>\n",
              "      <td>5</td>\n",
              "      <td>2</td>\n",
              "      <td>60</td>\n",
              "      <td>0</td>\n",
              "      <td>1</td>\n",
              "      <td>3</td>\n",
              "      <td>0</td>\n",
              "    </tr>\n",
              "    <tr>\n",
              "      <th>3</th>\n",
              "      <td>70000</td>\n",
              "      <td>0</td>\n",
              "      <td>1</td>\n",
              "      <td>41</td>\n",
              "      <td>1</td>\n",
              "      <td>1</td>\n",
              "      <td>3</td>\n",
              "      <td>2</td>\n",
              "    </tr>\n",
              "    <tr>\n",
              "      <th>4</th>\n",
              "      <td>30000</td>\n",
              "      <td>0</td>\n",
              "      <td>0</td>\n",
              "      <td>36</td>\n",
              "      <td>1</td>\n",
              "      <td>1</td>\n",
              "      <td>0</td>\n",
              "      <td>0</td>\n",
              "    </tr>\n",
              "    <tr>\n",
              "      <th>...</th>\n",
              "      <td>...</td>\n",
              "      <td>...</td>\n",
              "      <td>...</td>\n",
              "      <td>...</td>\n",
              "      <td>...</td>\n",
              "      <td>...</td>\n",
              "      <td>...</td>\n",
              "      <td>...</td>\n",
              "    </tr>\n",
              "    <tr>\n",
              "      <th>995</th>\n",
              "      <td>60000</td>\n",
              "      <td>2</td>\n",
              "      <td>2</td>\n",
              "      <td>54</td>\n",
              "      <td>0</td>\n",
              "      <td>1</td>\n",
              "      <td>3</td>\n",
              "      <td>1</td>\n",
              "    </tr>\n",
              "    <tr>\n",
              "      <th>996</th>\n",
              "      <td>70000</td>\n",
              "      <td>4</td>\n",
              "      <td>0</td>\n",
              "      <td>35</td>\n",
              "      <td>1</td>\n",
              "      <td>1</td>\n",
              "      <td>3</td>\n",
              "      <td>1</td>\n",
              "    </tr>\n",
              "    <tr>\n",
              "      <th>997</th>\n",
              "      <td>60000</td>\n",
              "      <td>2</td>\n",
              "      <td>0</td>\n",
              "      <td>38</td>\n",
              "      <td>0</td>\n",
              "      <td>1</td>\n",
              "      <td>4</td>\n",
              "      <td>1</td>\n",
              "    </tr>\n",
              "    <tr>\n",
              "      <th>998</th>\n",
              "      <td>100000</td>\n",
              "      <td>3</td>\n",
              "      <td>3</td>\n",
              "      <td>38</td>\n",
              "      <td>1</td>\n",
              "      <td>1</td>\n",
              "      <td>1</td>\n",
              "      <td>1</td>\n",
              "    </tr>\n",
              "    <tr>\n",
              "      <th>999</th>\n",
              "      <td>60000</td>\n",
              "      <td>3</td>\n",
              "      <td>2</td>\n",
              "      <td>53</td>\n",
              "      <td>1</td>\n",
              "      <td>1</td>\n",
              "      <td>3</td>\n",
              "      <td>1</td>\n",
              "    </tr>\n",
              "  </tbody>\n",
              "</table>\n",
              "<p>1000 rows × 8 columns</p>\n",
              "</div>\n",
              "      <button class=\"colab-df-convert\" onclick=\"convertToInteractive('df-fad59983-5d46-4628-a1fe-bddf68b16fe5')\"\n",
              "              title=\"Convert this dataframe to an interactive table.\"\n",
              "              style=\"display:none;\">\n",
              "        \n",
              "  <svg xmlns=\"http://www.w3.org/2000/svg\" height=\"24px\"viewBox=\"0 0 24 24\"\n",
              "       width=\"24px\">\n",
              "    <path d=\"M0 0h24v24H0V0z\" fill=\"none\"/>\n",
              "    <path d=\"M18.56 5.44l.94 2.06.94-2.06 2.06-.94-2.06-.94-.94-2.06-.94 2.06-2.06.94zm-11 1L8.5 8.5l.94-2.06 2.06-.94-2.06-.94L8.5 2.5l-.94 2.06-2.06.94zm10 10l.94 2.06.94-2.06 2.06-.94-2.06-.94-.94-2.06-.94 2.06-2.06.94z\"/><path d=\"M17.41 7.96l-1.37-1.37c-.4-.4-.92-.59-1.43-.59-.52 0-1.04.2-1.43.59L10.3 9.45l-7.72 7.72c-.78.78-.78 2.05 0 2.83L4 21.41c.39.39.9.59 1.41.59.51 0 1.02-.2 1.41-.59l7.78-7.78 2.81-2.81c.8-.78.8-2.07 0-2.86zM5.41 20L4 18.59l7.72-7.72 1.47 1.35L5.41 20z\"/>\n",
              "  </svg>\n",
              "      </button>\n",
              "      \n",
              "  <style>\n",
              "    .colab-df-container {\n",
              "      display:flex;\n",
              "      flex-wrap:wrap;\n",
              "      gap: 12px;\n",
              "    }\n",
              "\n",
              "    .colab-df-convert {\n",
              "      background-color: #E8F0FE;\n",
              "      border: none;\n",
              "      border-radius: 50%;\n",
              "      cursor: pointer;\n",
              "      display: none;\n",
              "      fill: #1967D2;\n",
              "      height: 32px;\n",
              "      padding: 0 0 0 0;\n",
              "      width: 32px;\n",
              "    }\n",
              "\n",
              "    .colab-df-convert:hover {\n",
              "      background-color: #E2EBFA;\n",
              "      box-shadow: 0px 1px 2px rgba(60, 64, 67, 0.3), 0px 1px 3px 1px rgba(60, 64, 67, 0.15);\n",
              "      fill: #174EA6;\n",
              "    }\n",
              "\n",
              "    [theme=dark] .colab-df-convert {\n",
              "      background-color: #3B4455;\n",
              "      fill: #D2E3FC;\n",
              "    }\n",
              "\n",
              "    [theme=dark] .colab-df-convert:hover {\n",
              "      background-color: #434B5C;\n",
              "      box-shadow: 0px 1px 3px 1px rgba(0, 0, 0, 0.15);\n",
              "      filter: drop-shadow(0px 1px 2px rgba(0, 0, 0, 0.3));\n",
              "      fill: #FFFFFF;\n",
              "    }\n",
              "  </style>\n",
              "\n",
              "      <script>\n",
              "        const buttonEl =\n",
              "          document.querySelector('#df-fad59983-5d46-4628-a1fe-bddf68b16fe5 button.colab-df-convert');\n",
              "        buttonEl.style.display =\n",
              "          google.colab.kernel.accessAllowed ? 'block' : 'none';\n",
              "\n",
              "        async function convertToInteractive(key) {\n",
              "          const element = document.querySelector('#df-fad59983-5d46-4628-a1fe-bddf68b16fe5');\n",
              "          const dataTable =\n",
              "            await google.colab.kernel.invokeFunction('convertToInteractive',\n",
              "                                                     [key], {});\n",
              "          if (!dataTable) return;\n",
              "\n",
              "          const docLinkHtml = 'Like what you see? Visit the ' +\n",
              "            '<a target=\"_blank\" href=https://colab.research.google.com/notebooks/data_table.ipynb>data table notebook</a>'\n",
              "            + ' to learn more about interactive tables.';\n",
              "          element.innerHTML = '';\n",
              "          dataTable['output_type'] = 'display_data';\n",
              "          await google.colab.output.renderOutput(dataTable, element);\n",
              "          const docLink = document.createElement('div');\n",
              "          docLink.innerHTML = docLinkHtml;\n",
              "          element.appendChild(docLink);\n",
              "        }\n",
              "      </script>\n",
              "    </div>\n",
              "  </div>\n",
              "  "
            ],
            "text/plain": [
              "     Income  Children  Cars  Age  mar  gender  occp  reg\n",
              "0     40000         1     0   42    0       0     4    0\n",
              "1     30000         3     1   43    0       1     0    0\n",
              "2     80000         5     2   60    0       1     3    0\n",
              "3     70000         0     1   41    1       1     3    2\n",
              "4     30000         0     0   36    1       1     0    0\n",
              "..      ...       ...   ...  ...  ...     ...   ...  ...\n",
              "995   60000         2     2   54    0       1     3    1\n",
              "996   70000         4     0   35    1       1     3    1\n",
              "997   60000         2     0   38    0       1     4    1\n",
              "998  100000         3     3   38    1       1     1    1\n",
              "999   60000         3     2   53    1       1     3    1\n",
              "\n",
              "[1000 rows x 8 columns]"
            ]
          },
          "metadata": {},
          "execution_count": 26
        }
      ]
    },
    {
      "cell_type": "code",
      "source": [
        "y"
      ],
      "metadata": {
        "colab": {
          "base_uri": "https://localhost:8080/"
        },
        "id": "ObhWJ4mJRuTK",
        "outputId": "936c4023-7d4d-4b73-baa9-4db9e3c4f075"
      },
      "execution_count": 27,
      "outputs": [
        {
          "output_type": "execute_result",
          "data": {
            "text/plain": [
              "0      0\n",
              "1      0\n",
              "2      0\n",
              "3      1\n",
              "4      1\n",
              "      ..\n",
              "995    1\n",
              "996    1\n",
              "997    1\n",
              "998    0\n",
              "999    1\n",
              "Name: bike, Length: 1000, dtype: int64"
            ]
          },
          "metadata": {},
          "execution_count": 27
        }
      ]
    },
    {
      "cell_type": "code",
      "source": [
        "#Using train test split ro predict the accuracy\n",
        "X_train, X_test, y_train, y_test = train_test_split(x, y, test_size=0.1, random_state=24)\n",
        "print(f\"Train Data: {X_train.shape}, {y_train.shape}\")\n",
        "print(f\"Train Data: {X_test.shape}, {y_test.shape}\")"
      ],
      "metadata": {
        "colab": {
          "base_uri": "https://localhost:8080/"
        },
        "id": "7hG6ZJi7RxOg",
        "outputId": "18a16721-270e-4bfd-a45b-9897b5b01fd6"
      },
      "execution_count": 28,
      "outputs": [
        {
          "output_type": "stream",
          "name": "stdout",
          "text": [
            "Train Data: (900, 8), (900,)\n",
            "Train Data: (100, 8), (100,)\n"
          ]
        }
      ]
    },
    {
      "cell_type": "code",
      "source": [
        "logistic_class = LogisticRegression()\n",
        "logistic_class.fit(X_train, y_train)\n",
        "\n",
        "prediction_2 = logistic_class.predict(X_test)"
      ],
      "metadata": {
        "id": "28Djk6IhSNhl"
      },
      "execution_count": 29,
      "outputs": []
    },
    {
      "cell_type": "code",
      "source": [
        "\n",
        "print(f\"Accuracy of the classifier test is: {accuracy_score(y_test, prediction_2)}\")"
      ],
      "metadata": {
        "colab": {
          "base_uri": "https://localhost:8080/"
        },
        "id": "4EphtPufSXpL",
        "outputId": "0af6d2d2-018e-4f4d-ff29-bf6d158b3766"
      },
      "execution_count": 30,
      "outputs": [
        {
          "output_type": "stream",
          "name": "stdout",
          "text": [
            "Accuracy of the classifier test is: 0.65\n"
          ]
        }
      ]
    },
    {
      "cell_type": "code",
      "source": [
        "print(f\"Precision Score of the classifier 1 is: {precision_score(y_test, prediction_2)}\")"
      ],
      "metadata": {
        "colab": {
          "base_uri": "https://localhost:8080/"
        },
        "id": "RKQRg9ope8NV",
        "outputId": "cec9d07a-6bc2-442b-daa1-22f35c8a0801"
      },
      "execution_count": 31,
      "outputs": [
        {
          "output_type": "stream",
          "name": "stdout",
          "text": [
            "Precision Score of the classifier 1 is: 0.6491228070175439\n"
          ]
        }
      ]
    },
    {
      "cell_type": "code",
      "source": [
        "from sklearn.metrics import classification_report\n",
        "print(classification_report(y_test, prediction_2))"
      ],
      "metadata": {
        "colab": {
          "base_uri": "https://localhost:8080/"
        },
        "id": "GbAdnJJJjMZE",
        "outputId": "f39d271d-d2aa-4fd5-a36c-f66999095139"
      },
      "execution_count": 32,
      "outputs": [
        {
          "output_type": "stream",
          "name": "stdout",
          "text": [
            "              precision    recall  f1-score   support\n",
            "\n",
            "           0       0.65      0.58      0.62        48\n",
            "           1       0.65      0.71      0.68        52\n",
            "\n",
            "    accuracy                           0.65       100\n",
            "   macro avg       0.65      0.65      0.65       100\n",
            "weighted avg       0.65      0.65      0.65       100\n",
            "\n"
          ]
        }
      ]
    },
    {
      "cell_type": "markdown",
      "source": [
        "Precision is a metric which should be used if false negative is not that big of a problem for us. It can be\n",
        "calculated by the formula TP/(TP+FP). When the model predicts correct, how often is it correct is given by precision.\n",
        "In an imbalanced classification problem with more than two classes, precision is calculated as the sum of true\n",
        "positives across all classes divided by the sum of true positives and false positives across all classes. For the bike purchase to be true,\n",
        "the precision is found to be 0.65, that means when the model predicted the bike purchase, it was right 65% of\n",
        "time."
      ],
      "metadata": {
        "id": "58RNROjli5n4"
      }
    },
    {
      "cell_type": "markdown",
      "source": [
        "Recall is a metric which should be used if false negative is a very big problem for us and need to reduce it to\n",
        "the lowest point possible. In an imbalanced classification problem with more than two classes, recall is calculated as\n",
        "the sum of true positives across all classes divided by the sum of true positives and false negatives across all classes.\n"
      ],
      "metadata": {
        "id": "SFrDG98QpoLU"
      }
    },
    {
      "cell_type": "markdown",
      "source": [
        "f1-score is a weighted average of the true positive rate and precision. For a high F score, it is important to have a\n",
        "high precision and recall value. Sometimes, when the precion is high, recall is low and vice versa. In such condition,\n",
        "we have to calculate f-score i.e The harmonic mean. If we calculate arithemetic mean, the result would be very far\n",
        "from the what it should have been. It is also called f1 score. Its formula simplified is: 2"
      ],
      "metadata": {
        "id": "zkDf3okepwVj"
      }
    },
    {
      "cell_type": "code",
      "source": [
        "from sklearn.metrics import confusion_matrix\n",
        "cm = confusion_matrix(y_test, prediction_2)\n",
        "print(cm)"
      ],
      "metadata": {
        "colab": {
          "base_uri": "https://localhost:8080/"
        },
        "id": "fB7yXntVhlCN",
        "outputId": "5d41320a-13c1-4af3-abd5-d429d3b256d0"
      },
      "execution_count": 33,
      "outputs": [
        {
          "output_type": "stream",
          "name": "stdout",
          "text": [
            "[[28 20]\n",
            " [15 37]]\n"
          ]
        }
      ]
    },
    {
      "cell_type": "markdown",
      "source": [
        "For visual preference, a heatmap is made from the seaborn library and the same confusion matrix is sent to it along\n",
        "with the labels.\n"
      ],
      "metadata": {
        "id": "ikUXQkIVipCs"
      }
    },
    {
      "cell_type": "code",
      "source": [
        "plt.figure(figsize = (7,6))\n",
        "ax= plt.subplot()\n",
        "sns.heatmap(cm, annot=True, linewidth=2.5, ax = ax, cbar=False); #annot=True to annotate cells\n",
        "ax.set_xlabel('Predicted labels');ax.set_ylabel('True labels');\n",
        "ax.set_title('Confusion Matrix');\n",
        "ax.xaxis.set_ticklabels(y.unique()); ax.yaxis.set_ticklabels(y.unique());"
      ],
      "metadata": {
        "colab": {
          "base_uri": "https://localhost:8080/",
          "height": 404
        },
        "id": "dY9Oewx_icDm",
        "outputId": "2742c66f-b396-455f-d2c3-374c331f35e3"
      },
      "execution_count": 34,
      "outputs": [
        {
          "output_type": "display_data",
          "data": {
            "image/png": "[encoded data removed]",
            "text/plain": [
              "<Figure size 504x432 with 1 Axes>"
            ]
          },
          "metadata": {
            "needs_background": "light"
          }
        }
      ]
    },
    {
      "cell_type": "markdown",
      "source": [
        "ROC Curve is the metric we use to find the threshold in our logistic regression model. We can say that it is used to\n",
        "calculate the performance of a binary classifier. It is a probability curve that plots the TPR against FPR at various\n",
        "threshold values. We generally use 0.5 as the threshold i.e. anyhing greater than 0.5 and itself will be classified as 1\n",
        "and anything less that that will be classified at 0. This is not always a good threshold. Sometimes we may want higher\n",
        "True Positive Rate and very less False Positive Rate and other times we might want Very High True Positive Rate and\n",
        "not care too much about false Positive rate. This can be determined by the ROC curve. AUC is just the area under the\n",
        "curve. This is used as a summary of ROC curve. The higher the AUC, the better the performance of the model at\n",
        "distinguishing between the positive and negative classes.\n"
      ],
      "metadata": {
        "id": "4fb3HYYFgJRM"
      }
    },
    {
      "cell_type": "code",
      "source": [
        "class_probabilities = logistic_class.predict_proba(X_test)\n",
        "preds = class_probabilities[:, 1]\n",
        "\n",
        "fpr, tpr, threshold = roc_curve(y_test, preds)\n",
        "roc_auc = auc(fpr, tpr)\n",
        "\n",
        "# Printing AUC\n",
        "print(f\"AUC for our classifier is: {roc_auc}\")\n",
        "\n",
        "# Plotting the ROC\n",
        "plt.title('Receiver Operating Characteristic')\n",
        "plt.plot(fpr, tpr, 'b', label = 'AUC = %0.2f' % roc_auc)\n",
        "plt.legend(loc = 'lower right')\n",
        "plt.plot([0, 1], [0, 1],'r--')\n",
        "plt.xlim([0, 1])\n",
        "plt.ylim([0, 1])\n",
        "plt.ylabel('True Positive Rate')\n",
        "plt.xlabel('False Positive Rate')\n",
        "plt.show()"
      ],
      "metadata": {
        "colab": {
          "base_uri": "https://localhost:8080/",
          "height": 312
        },
        "id": "cmC85HNSfHse",
        "outputId": "1b6d8d4c-5e3c-4f08-a77a-28ea930eafca"
      },
      "execution_count": 35,
      "outputs": [
        {
          "output_type": "stream",
          "name": "stdout",
          "text": [
            "AUC for our classifier is: 0.7151442307692307\n"
          ]
        },
        {
          "output_type": "display_data",
          "data": {
            "image/png": "[encoded data removed]",
            "text/plain": [
              "<Figure size 432x288 with 1 Axes>"
            ]
          },
          "metadata": {
            "needs_background": "light"
          }
        }
      ]
    }
  ]
}